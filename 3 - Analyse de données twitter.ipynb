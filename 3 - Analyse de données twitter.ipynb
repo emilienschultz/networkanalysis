{
 "cells": [
  {
   "cell_type": "markdown",
   "id": "bfea3d39",
   "metadata": {},
   "source": [
    "# Analyse des données Twitter"
   ]
  },
  {
   "cell_type": "markdown",
   "id": "9de7c1a6",
   "metadata": {},
   "source": [
    "La stratégie suit généralement des étapes similaires :\n",
    "\n",
    "- récupération des données\n",
    "- nettoyage et consolidation des données (data management)\n",
    "- construction des réseaux\n",
    "- explorations, visualisations et statistiques\n",
    "\n",
    "Par contre la question principale est  : qu'est-ce que l'on veut étudier ? \n",
    "\n",
    "- un phénomène spécifique sur la plateforme : morphologie, évolution, etc.\n",
    "- des dynamiques (corrélations entre certains comportements et éléments)\n",
    "- d'autres phénomènes en prenant les interactions comme proxy : attitudes\n"
   ]
  },
  {
   "cell_type": "markdown",
   "id": "dad1568d",
   "metadata": {},
   "source": [
    "## 1. Collecter les données\n",
    "\n",
    "In this case, I use `twarc` with commandline. Others options exist, for instance as a librairy.\n",
    "\n",
    "To use `twarc` : https://twarc-project.readthedocs.io/en/latest/twarc2_en_us/"
   ]
  },
  {
   "cell_type": "markdown",
   "id": "d01181cc",
   "metadata": {},
   "source": [
    "## 2 - Consolider les données\n",
    "\n",
    "Pour l'exploration, utilisons `Pandas`"
   ]
  },
  {
   "cell_type": "code",
   "execution_count": 33,
   "id": "0efb9fce",
   "metadata": {},
   "outputs": [],
   "source": [
    "import pandas as pd"
   ]
  },
  {
   "cell_type": "markdown",
   "id": "30f9a1ac",
   "metadata": {},
   "source": [
    "Chargeons les données"
   ]
  },
  {
   "cell_type": "code",
   "execution_count": 35,
   "id": "9f613e0f",
   "metadata": {},
   "outputs": [
    {
     "data": {
      "text/plain": [
       "(208386, 83)"
      ]
     },
     "execution_count": 35,
     "metadata": {},
     "output_type": "execute_result"
    }
   ],
   "source": [
    "data = pd.read_csv(\"../data/tweets_aiORartificial_FULL.csv\", \n",
    "                    low_memory=False)\n",
    "data.shape"
   ]
  },
  {
   "cell_type": "code",
   "execution_count": 36,
   "id": "a397edd7",
   "metadata": {},
   "outputs": [
    {
     "data": {
      "text/html": [
       "<div>\n",
       "<style scoped>\n",
       "    .dataframe tbody tr th:only-of-type {\n",
       "        vertical-align: middle;\n",
       "    }\n",
       "\n",
       "    .dataframe tbody tr th {\n",
       "        vertical-align: top;\n",
       "    }\n",
       "\n",
       "    .dataframe thead th {\n",
       "        text-align: right;\n",
       "    }\n",
       "</style>\n",
       "<table border=\"1\" class=\"dataframe\">\n",
       "  <thead>\n",
       "    <tr style=\"text-align: right;\">\n",
       "      <th></th>\n",
       "      <th>id</th>\n",
       "      <th>conversation_id</th>\n",
       "      <th>referenced_tweets.replied_to.id</th>\n",
       "      <th>referenced_tweets.retweeted.id</th>\n",
       "      <th>referenced_tweets.quoted.id</th>\n",
       "      <th>author_id</th>\n",
       "      <th>in_reply_to_user_id</th>\n",
       "      <th>in_reply_to_username</th>\n",
       "      <th>retweeted_user_id</th>\n",
       "      <th>retweeted_username</th>\n",
       "      <th>...</th>\n",
       "      <th>geo.geo.bbox</th>\n",
       "      <th>geo.geo.type</th>\n",
       "      <th>geo.id</th>\n",
       "      <th>geo.name</th>\n",
       "      <th>geo.place_id</th>\n",
       "      <th>geo.place_type</th>\n",
       "      <th>matching_rules</th>\n",
       "      <th>__twarc.retrieved_at</th>\n",
       "      <th>__twarc.url</th>\n",
       "      <th>__twarc.version</th>\n",
       "    </tr>\n",
       "  </thead>\n",
       "  <tbody>\n",
       "    <tr>\n",
       "      <th>0</th>\n",
       "      <td>1621090140209938432</td>\n",
       "      <td>1621090140209938432</td>\n",
       "      <td>NaN</td>\n",
       "      <td>NaN</td>\n",
       "      <td>1.621032e+18</td>\n",
       "      <td>98652139</td>\n",
       "      <td>NaN</td>\n",
       "      <td>NaN</td>\n",
       "      <td>NaN</td>\n",
       "      <td>NaN</td>\n",
       "      <td>...</td>\n",
       "      <td>NaN</td>\n",
       "      <td>NaN</td>\n",
       "      <td>NaN</td>\n",
       "      <td>NaN</td>\n",
       "      <td>NaN</td>\n",
       "      <td>NaN</td>\n",
       "      <td>NaN</td>\n",
       "      <td>2023-02-02T10:22:42+00:00</td>\n",
       "      <td>https://api.twitter.com/2/tweets/search/all?ex...</td>\n",
       "      <td>2.12.0</td>\n",
       "    </tr>\n",
       "    <tr>\n",
       "      <th>1</th>\n",
       "      <td>1621073114154270720</td>\n",
       "      <td>1621073114154270720</td>\n",
       "      <td>NaN</td>\n",
       "      <td>1.620031e+18</td>\n",
       "      <td>NaN</td>\n",
       "      <td>2602152509</td>\n",
       "      <td>NaN</td>\n",
       "      <td>NaN</td>\n",
       "      <td>1.045620e+18</td>\n",
       "      <td>V7Labs</td>\n",
       "      <td>...</td>\n",
       "      <td>NaN</td>\n",
       "      <td>NaN</td>\n",
       "      <td>NaN</td>\n",
       "      <td>NaN</td>\n",
       "      <td>NaN</td>\n",
       "      <td>NaN</td>\n",
       "      <td>NaN</td>\n",
       "      <td>2023-02-02T10:22:42+00:00</td>\n",
       "      <td>https://api.twitter.com/2/tweets/search/all?ex...</td>\n",
       "      <td>2.12.0</td>\n",
       "    </tr>\n",
       "    <tr>\n",
       "      <th>2</th>\n",
       "      <td>1621056195254517762</td>\n",
       "      <td>1621056195254517762</td>\n",
       "      <td>NaN</td>\n",
       "      <td>NaN</td>\n",
       "      <td>NaN</td>\n",
       "      <td>499643239</td>\n",
       "      <td>NaN</td>\n",
       "      <td>NaN</td>\n",
       "      <td>NaN</td>\n",
       "      <td>NaN</td>\n",
       "      <td>...</td>\n",
       "      <td>NaN</td>\n",
       "      <td>NaN</td>\n",
       "      <td>NaN</td>\n",
       "      <td>NaN</td>\n",
       "      <td>NaN</td>\n",
       "      <td>NaN</td>\n",
       "      <td>NaN</td>\n",
       "      <td>2023-02-02T10:22:42+00:00</td>\n",
       "      <td>https://api.twitter.com/2/tweets/search/all?ex...</td>\n",
       "      <td>2.12.0</td>\n",
       "    </tr>\n",
       "    <tr>\n",
       "      <th>3</th>\n",
       "      <td>1621024454204854272</td>\n",
       "      <td>1621024454204854272</td>\n",
       "      <td>NaN</td>\n",
       "      <td>1.620952e+18</td>\n",
       "      <td>NaN</td>\n",
       "      <td>290980590</td>\n",
       "      <td>NaN</td>\n",
       "      <td>NaN</td>\n",
       "      <td>1.844873e+07</td>\n",
       "      <td>james_goldfarb</td>\n",
       "      <td>...</td>\n",
       "      <td>NaN</td>\n",
       "      <td>NaN</td>\n",
       "      <td>NaN</td>\n",
       "      <td>NaN</td>\n",
       "      <td>NaN</td>\n",
       "      <td>NaN</td>\n",
       "      <td>NaN</td>\n",
       "      <td>2023-02-02T10:22:42+00:00</td>\n",
       "      <td>https://api.twitter.com/2/tweets/search/all?ex...</td>\n",
       "      <td>2.12.0</td>\n",
       "    </tr>\n",
       "    <tr>\n",
       "      <th>4</th>\n",
       "      <td>1621024442632605697</td>\n",
       "      <td>1621024442632605697</td>\n",
       "      <td>NaN</td>\n",
       "      <td>1.620952e+18</td>\n",
       "      <td>NaN</td>\n",
       "      <td>290980590</td>\n",
       "      <td>NaN</td>\n",
       "      <td>NaN</td>\n",
       "      <td>3.402698e+09</td>\n",
       "      <td>DrDreMDPhD</td>\n",
       "      <td>...</td>\n",
       "      <td>NaN</td>\n",
       "      <td>NaN</td>\n",
       "      <td>NaN</td>\n",
       "      <td>NaN</td>\n",
       "      <td>NaN</td>\n",
       "      <td>NaN</td>\n",
       "      <td>NaN</td>\n",
       "      <td>2023-02-02T10:22:42+00:00</td>\n",
       "      <td>https://api.twitter.com/2/tweets/search/all?ex...</td>\n",
       "      <td>2.12.0</td>\n",
       "    </tr>\n",
       "  </tbody>\n",
       "</table>\n",
       "<p>5 rows × 83 columns</p>\n",
       "</div>"
      ],
      "text/plain": [
       "                    id      conversation_id  referenced_tweets.replied_to.id  \\\n",
       "0  1621090140209938432  1621090140209938432                              NaN   \n",
       "1  1621073114154270720  1621073114154270720                              NaN   \n",
       "2  1621056195254517762  1621056195254517762                              NaN   \n",
       "3  1621024454204854272  1621024454204854272                              NaN   \n",
       "4  1621024442632605697  1621024442632605697                              NaN   \n",
       "\n",
       "   referenced_tweets.retweeted.id  referenced_tweets.quoted.id   author_id  \\\n",
       "0                             NaN                 1.621032e+18    98652139   \n",
       "1                    1.620031e+18                          NaN  2602152509   \n",
       "2                             NaN                          NaN   499643239   \n",
       "3                    1.620952e+18                          NaN   290980590   \n",
       "4                    1.620952e+18                          NaN   290980590   \n",
       "\n",
       "   in_reply_to_user_id in_reply_to_username  retweeted_user_id  \\\n",
       "0                  NaN                  NaN                NaN   \n",
       "1                  NaN                  NaN       1.045620e+18   \n",
       "2                  NaN                  NaN                NaN   \n",
       "3                  NaN                  NaN       1.844873e+07   \n",
       "4                  NaN                  NaN       3.402698e+09   \n",
       "\n",
       "  retweeted_username  ...  geo.geo.bbox geo.geo.type geo.id geo.name  \\\n",
       "0                NaN  ...           NaN          NaN    NaN      NaN   \n",
       "1             V7Labs  ...           NaN          NaN    NaN      NaN   \n",
       "2                NaN  ...           NaN          NaN    NaN      NaN   \n",
       "3     james_goldfarb  ...           NaN          NaN    NaN      NaN   \n",
       "4         DrDreMDPhD  ...           NaN          NaN    NaN      NaN   \n",
       "\n",
       "  geo.place_id  geo.place_type  matching_rules       __twarc.retrieved_at  \\\n",
       "0          NaN             NaN             NaN  2023-02-02T10:22:42+00:00   \n",
       "1          NaN             NaN             NaN  2023-02-02T10:22:42+00:00   \n",
       "2          NaN             NaN             NaN  2023-02-02T10:22:42+00:00   \n",
       "3          NaN             NaN             NaN  2023-02-02T10:22:42+00:00   \n",
       "4          NaN             NaN             NaN  2023-02-02T10:22:42+00:00   \n",
       "\n",
       "                                         __twarc.url  __twarc.version  \n",
       "0  https://api.twitter.com/2/tweets/search/all?ex...           2.12.0  \n",
       "1  https://api.twitter.com/2/tweets/search/all?ex...           2.12.0  \n",
       "2  https://api.twitter.com/2/tweets/search/all?ex...           2.12.0  \n",
       "3  https://api.twitter.com/2/tweets/search/all?ex...           2.12.0  \n",
       "4  https://api.twitter.com/2/tweets/search/all?ex...           2.12.0  \n",
       "\n",
       "[5 rows x 83 columns]"
      ]
     },
     "execution_count": 36,
     "metadata": {},
     "output_type": "execute_result"
    }
   ],
   "source": [
    "data.head()"
   ]
  },
  {
   "cell_type": "code",
   "execution_count": 37,
   "id": "d2a84bb8",
   "metadata": {},
   "outputs": [
    {
     "data": {
      "text/plain": [
       "Index(['id', 'conversation_id', 'referenced_tweets.replied_to.id',\n",
       "       'referenced_tweets.retweeted.id', 'referenced_tweets.quoted.id',\n",
       "       'author_id', 'in_reply_to_user_id', 'in_reply_to_username',\n",
       "       'retweeted_user_id', 'retweeted_username', 'quoted_user_id',\n",
       "       'quoted_username', 'created_at', 'text', 'lang', 'source',\n",
       "       'public_metrics.impression_count', 'public_metrics.reply_count',\n",
       "       'public_metrics.retweet_count', 'public_metrics.quote_count',\n",
       "       'public_metrics.like_count', 'reply_settings', 'edit_history_tweet_ids',\n",
       "       'edit_controls.edits_remaining', 'edit_controls.editable_until',\n",
       "       'edit_controls.is_edit_eligible', 'possibly_sensitive',\n",
       "       'withheld.scope', 'withheld.copyright', 'withheld.country_codes',\n",
       "       'entities.annotations', 'entities.cashtags', 'entities.hashtags',\n",
       "       'entities.mentions', 'entities.urls', 'context_annotations',\n",
       "       'attachments.media', 'attachments.media_keys',\n",
       "       'attachments.poll.duration_minutes', 'attachments.poll.end_datetime',\n",
       "       'attachments.poll.id', 'attachments.poll.options',\n",
       "       'attachments.poll.voting_status', 'attachments.poll_ids', 'author.id',\n",
       "       'author.created_at', 'author.username', 'author.name',\n",
       "       'author.description', 'author.entities.description.cashtags',\n",
       "       'author.entities.description.hashtags',\n",
       "       'author.entities.description.mentions',\n",
       "       'author.entities.description.urls', 'author.entities.url.urls',\n",
       "       'author.url', 'author.location', 'author.pinned_tweet_id',\n",
       "       'author.profile_image_url', 'author.protected',\n",
       "       'author.public_metrics.followers_count',\n",
       "       'author.public_metrics.following_count',\n",
       "       'author.public_metrics.listed_count',\n",
       "       'author.public_metrics.tweet_count', 'author.verified',\n",
       "       'author.verified_type', 'author.withheld.scope',\n",
       "       'author.withheld.copyright', 'author.withheld.country_codes',\n",
       "       'geo.coordinates.coordinates', 'geo.coordinates.type', 'geo.country',\n",
       "       'geo.country_code', 'geo.full_name', 'geo.geo.bbox', 'geo.geo.type',\n",
       "       'geo.id', 'geo.name', 'geo.place_id', 'geo.place_type',\n",
       "       'matching_rules', '__twarc.retrieved_at', '__twarc.url',\n",
       "       '__twarc.version'],\n",
       "      dtype='object')"
      ]
     },
     "execution_count": 37,
     "metadata": {},
     "output_type": "execute_result"
    }
   ],
   "source": [
    "data.columns"
   ]
  },
  {
   "cell_type": "markdown",
   "id": "98ea6996",
   "metadata": {},
   "source": [
    "Garder uniquement les tweets originaux"
   ]
  },
  {
   "cell_type": "code",
   "execution_count": 38,
   "id": "6c279e1d",
   "metadata": {},
   "outputs": [],
   "source": [
    "filtre = pd.isnull(data[\"retweeted_user_id\"]) & pd.isnull(data[\"quoted_user_id\"]) "
   ]
  },
  {
   "cell_type": "code",
   "execution_count": 39,
   "id": "2c9a43b8",
   "metadata": {},
   "outputs": [
    {
     "data": {
      "text/plain": [
       "69810"
      ]
     },
     "execution_count": 39,
     "metadata": {},
     "output_type": "execute_result"
    }
   ],
   "source": [
    "filtre.sum()"
   ]
  },
  {
   "cell_type": "markdown",
   "id": "ae9d3f26",
   "metadata": {},
   "source": [
    "#### Evolution temporelle"
   ]
  },
  {
   "cell_type": "code",
   "execution_count": 40,
   "id": "04d66e5d",
   "metadata": {},
   "outputs": [],
   "source": [
    "data[\"date\"] = pd.to_datetime(data['created_at'])\n",
    "data[\"num\"] = 1"
   ]
  },
  {
   "cell_type": "markdown",
   "id": "c5fa5a72",
   "metadata": {},
   "source": [
    "Visualisation"
   ]
  },
  {
   "cell_type": "code",
   "execution_count": 42,
   "id": "e5f42a22",
   "metadata": {},
   "outputs": [
    {
     "data": {
      "text/plain": [
       "<AxesSubplot:xlabel='date'>"
      ]
     },
     "execution_count": 42,
     "metadata": {},
     "output_type": "execute_result"
    },
    {
     "data": {
      "image/png": "[encoded data removed]",
      "text/plain": [
       "<Figure size 720x216 with 1 Axes>"
      ]
     },
     "metadata": {
      "needs_background": "light"
     },
     "output_type": "display_data"
    }
   ],
   "source": [
    "data[filtre].set_index(\"date\")[\"num\"].resample(\"d\").sum().plot(figsize=(10,3))"
   ]
  },
  {
   "cell_type": "markdown",
   "id": "ba8b0a3a",
   "metadata": {},
   "source": [
    "Explorer les bursts ?"
   ]
  },
  {
   "cell_type": "markdown",
   "id": "fac11d10",
   "metadata": {},
   "source": [
    "Regarder des tweets particuliers"
   ]
  },
  {
   "cell_type": "code",
   "execution_count": 43,
   "id": "320bc2d8",
   "metadata": {},
   "outputs": [],
   "source": [
    "import requests\n",
    "class Tweet(object):\n",
    "    \"\"\"\n",
    "    Object to visualize a specific tweet\n",
    "    \"\"\"\n",
    "    def __init__(self, s):\n",
    "        \"\"\"\n",
    "        s : id of a tweet\n",
    "        \"\"\"\n",
    "        s = f\"https://twitter.com/OReillyMedia/status/{s}\"\n",
    "        api = 'https://publish.twitter.com/oembed?url={}'.format(s)\n",
    "        response = requests.get(api)\n",
    "        self.text = response.json()[\"html\"]\n",
    "\n",
    "    def _repr_html_(self):\n",
    "        return self.text"
   ]
  },
  {
   "cell_type": "code",
   "execution_count": 44,
   "id": "6c819857",
   "metadata": {},
   "outputs": [
    {
     "data": {
      "text/html": [
       "<blockquote class=\"twitter-tweet\"><p lang=\"en\" dir=\"ltr\">Can <a href=\"https://twitter.com/hashtag/DeepLearning?src=hash&amp;ref_src=twsrc%5Etfw\">#DeepLearning</a> <a href=\"https://twitter.com/hashtag/XRay?src=hash&amp;ref_src=twsrc%5Etfw\">#XRay</a> Assessment Improve ER Triage of Patients with Acute <a href=\"https://twitter.com/hashtag/ChestPain?src=hash&amp;ref_src=twsrc%5Etfw\">#ChestPain</a>? <a href=\"https://t.co/ntRssVDIN2\">https://t.co/ntRssVDIN2</a> <a href=\"https://twitter.com/ACRRFS?ref_src=twsrc%5Etfw\">@ACRRFS</a> <a href=\"https://twitter.com/ACRYPS?ref_src=twsrc%5Etfw\">@ACRYPS</a> <a href=\"https://twitter.com/RadiologyACR?ref_src=twsrc%5Etfw\">@RadiologyACR</a> <a href=\"https://twitter.com/ARRS_Radiology?ref_src=twsrc%5Etfw\">@ARRS_Radiology</a> <a href=\"https://twitter.com/RSNA?ref_src=twsrc%5Etfw\">@RSNA</a> <a href=\"https://twitter.com/Radiology_AI?ref_src=twsrc%5Etfw\">@Radiology_AI</a> <a href=\"https://twitter.com/ERadSociety?ref_src=twsrc%5Etfw\">@ERadSociety</a> <a href=\"https://twitter.com/DukeRadiology?ref_src=twsrc%5Etfw\">@DukeRadiology</a> <a href=\"https://twitter.com/PennRadiology?ref_src=twsrc%5Etfw\">@PennRadiology</a> <a href=\"https://twitter.com/NYUImaging?ref_src=twsrc%5Etfw\">@NYUImaging</a> <a href=\"https://twitter.com/MontefioreRAD?ref_src=twsrc%5Etfw\">@MontefioreRAD</a> <a href=\"https://twitter.com/BURadiology?ref_src=twsrc%5Etfw\">@BURadiology</a> <a href=\"https://twitter.com/hashtag/radiology?src=hash&amp;ref_src=twsrc%5Etfw\">#radiology</a> <a href=\"https://twitter.com/hashtag/RadRes?src=hash&amp;ref_src=twsrc%5Etfw\">#RadRes</a> <a href=\"https://t.co/JDjfPUX32q\">pic.twitter.com/JDjfPUX32q</a></p>&mdash; Diagnostic Imaging (@Dx_imaging) <a href=\"https://twitter.com/Dx_imaging/status/1616616756629409792?ref_src=twsrc%5Etfw\">January 21, 2023</a></blockquote>\n",
       "<script async src=\"https://platform.twitter.com/widgets.js\" charset=\"utf-8\"></script>\n"
      ],
      "text/plain": [
       "<__main__.Tweet at 0x7f705d1f1580>"
      ]
     },
     "execution_count": 44,
     "metadata": {},
     "output_type": "execute_result"
    }
   ],
   "source": [
    "Tweet(data.iloc[1000][\"id\"])"
   ]
  },
  {
   "cell_type": "markdown",
   "id": "88e3f246",
   "metadata": {},
   "source": [
    "#### La langue des tweets"
   ]
  },
  {
   "cell_type": "code",
   "execution_count": 45,
   "id": "476fc487",
   "metadata": {},
   "outputs": [
    {
     "data": {
      "text/plain": [
       "en     200966\n",
       "fr       1485\n",
       "es       1295\n",
       "qme       692\n",
       "und       521\n",
       "Name: lang, dtype: int64"
      ]
     },
     "execution_count": 45,
     "metadata": {},
     "output_type": "execute_result"
    }
   ],
   "source": [
    "data['lang'].value_counts().head()"
   ]
  },
  {
   "cell_type": "markdown",
   "id": "8da01acc",
   "metadata": {},
   "source": [
    "We can check it is a French thing : https://trends.google.com/trends/explore?q=lancetgate"
   ]
  },
  {
   "cell_type": "markdown",
   "id": "d8a54d99",
   "metadata": {},
   "source": [
    "Uniquement les tweets français"
   ]
  },
  {
   "cell_type": "code",
   "execution_count": 46,
   "id": "8895bc52",
   "metadata": {},
   "outputs": [],
   "source": [
    "data = data[data['lang']==\"en\"]"
   ]
  },
  {
   "cell_type": "code",
   "execution_count": 47,
   "id": "ffc4a202",
   "metadata": {},
   "outputs": [
    {
     "data": {
      "text/plain": [
       "200966"
      ]
     },
     "execution_count": 47,
     "metadata": {},
     "output_type": "execute_result"
    }
   ],
   "source": [
    "len(data)"
   ]
  },
  {
   "cell_type": "markdown",
   "id": "13a6dd52",
   "metadata": {},
   "source": [
    "#### Les principaux comptes"
   ]
  },
  {
   "cell_type": "code",
   "execution_count": 50,
   "id": "a3266c4f",
   "metadata": {},
   "outputs": [
    {
     "data": {
      "text/plain": [
       "JohnLaprise        9860\n",
       "Radiology_AI       4131\n",
       "VonRosenchild      3814\n",
       "libkey_io          3733\n",
       "RadiologyGamuts    3490\n",
       "                   ... \n",
       "usbiomat              1\n",
       "HenrikH12577233       1\n",
       "Dr_subhro             1\n",
       "ashwin_vaswani        1\n",
       "acosand               1\n",
       "Name: author.username, Length: 37377, dtype: int64"
      ]
     },
     "execution_count": 50,
     "metadata": {},
     "output_type": "execute_result"
    }
   ],
   "source": [
    "data['author.username'].value_counts()"
   ]
  },
  {
   "cell_type": "markdown",
   "id": "aa9e7b6f",
   "metadata": {},
   "source": [
    "Number of users"
   ]
  },
  {
   "cell_type": "code",
   "execution_count": 51,
   "id": "9e8b1aa4",
   "metadata": {},
   "outputs": [
    {
     "data": {
      "text/plain": [
       "37377"
      ]
     },
     "execution_count": 51,
     "metadata": {},
     "output_type": "execute_result"
    }
   ],
   "source": [
    "len(data['author.username'].unique())"
   ]
  },
  {
   "cell_type": "code",
   "execution_count": 52,
   "id": "c945df09",
   "metadata": {},
   "outputs": [
    {
     "data": {
      "text/plain": [
       "<AxesSubplot:>"
      ]
     },
     "execution_count": 52,
     "metadata": {},
     "output_type": "execute_result"
    },
    {
     "data": {
      "image/png": "[encoded data removed]",
      "text/plain": [
       "<Figure size 432x288 with 1 Axes>"
      ]
     },
     "metadata": {
      "needs_background": "light"
     },
     "output_type": "display_data"
    }
   ],
   "source": [
    "data['author.username'].value_counts().hist(bins=100)"
   ]
  },
  {
   "cell_type": "markdown",
   "id": "884a0860",
   "metadata": {},
   "source": [
    "#### Les tweets les plus visibles"
   ]
  },
  {
   "cell_type": "code",
   "execution_count": 53,
   "id": "08a6d11a",
   "metadata": {},
   "outputs": [
    {
     "data": {
      "text/html": [
       "<div>\n",
       "<style scoped>\n",
       "    .dataframe tbody tr th:only-of-type {\n",
       "        vertical-align: middle;\n",
       "    }\n",
       "\n",
       "    .dataframe tbody tr th {\n",
       "        vertical-align: top;\n",
       "    }\n",
       "\n",
       "    .dataframe thead th {\n",
       "        text-align: right;\n",
       "    }\n",
       "</style>\n",
       "<table border=\"1\" class=\"dataframe\">\n",
       "  <thead>\n",
       "    <tr style=\"text-align: right;\">\n",
       "      <th></th>\n",
       "      <th>id</th>\n",
       "      <th>public_metrics.retweet_count</th>\n",
       "    </tr>\n",
       "  </thead>\n",
       "  <tbody>\n",
       "    <tr>\n",
       "      <th>79293</th>\n",
       "      <td>1377625185264762883</td>\n",
       "      <td>581</td>\n",
       "    </tr>\n",
       "    <tr>\n",
       "      <th>80589</th>\n",
       "      <td>1373754369544495104</td>\n",
       "      <td>581</td>\n",
       "    </tr>\n",
       "    <tr>\n",
       "      <th>77945</th>\n",
       "      <td>1380575008158810113</td>\n",
       "      <td>581</td>\n",
       "    </tr>\n",
       "    <tr>\n",
       "      <th>77941</th>\n",
       "      <td>1380590021313462272</td>\n",
       "      <td>581</td>\n",
       "    </tr>\n",
       "    <tr>\n",
       "      <th>77931</th>\n",
       "      <td>1380635576395784199</td>\n",
       "      <td>581</td>\n",
       "    </tr>\n",
       "    <tr>\n",
       "      <th>...</th>\n",
       "      <td>...</td>\n",
       "      <td>...</td>\n",
       "    </tr>\n",
       "    <tr>\n",
       "      <th>121986</th>\n",
       "      <td>1234599714449833985</td>\n",
       "      <td>0</td>\n",
       "    </tr>\n",
       "    <tr>\n",
       "      <th>121987</th>\n",
       "      <td>1234598429747228673</td>\n",
       "      <td>0</td>\n",
       "    </tr>\n",
       "    <tr>\n",
       "      <th>121988</th>\n",
       "      <td>1234597412276199424</td>\n",
       "      <td>0</td>\n",
       "    </tr>\n",
       "    <tr>\n",
       "      <th>121989</th>\n",
       "      <td>1234597258571718656</td>\n",
       "      <td>0</td>\n",
       "    </tr>\n",
       "    <tr>\n",
       "      <th>208385</th>\n",
       "      <td>4343559495</td>\n",
       "      <td>0</td>\n",
       "    </tr>\n",
       "  </tbody>\n",
       "</table>\n",
       "<p>200966 rows × 2 columns</p>\n",
       "</div>"
      ],
      "text/plain": [
       "                         id  public_metrics.retweet_count\n",
       "79293   1377625185264762883                           581\n",
       "80589   1373754369544495104                           581\n",
       "77945   1380575008158810113                           581\n",
       "77941   1380590021313462272                           581\n",
       "77931   1380635576395784199                           581\n",
       "...                     ...                           ...\n",
       "121986  1234599714449833985                             0\n",
       "121987  1234598429747228673                             0\n",
       "121988  1234597412276199424                             0\n",
       "121989  1234597258571718656                             0\n",
       "208385           4343559495                             0\n",
       "\n",
       "[200966 rows x 2 columns]"
      ]
     },
     "execution_count": 53,
     "metadata": {},
     "output_type": "execute_result"
    }
   ],
   "source": [
    "data[[\"id\",'public_metrics.retweet_count']].sort_values('public_metrics.retweet_count',\n",
    "                                                        ascending=False)"
   ]
  },
  {
   "cell_type": "code",
   "execution_count": 56,
   "id": "f7372efc",
   "metadata": {},
   "outputs": [
    {
     "data": {
      "text/html": [
       "<blockquote class=\"twitter-tweet\"><p lang=\"en\" dir=\"ltr\">This Indian Startup Uses Artificial Intelligence to Facilitate Radiology Imaging - MarkTechPost<br><br>Read more here: <a href=\"https://t.co/nqxCcLkbAQ\">https://t.co/nqxCcLkbAQ</a><a href=\"https://twitter.com/hashtag/ArtificialIntelligence?src=hash&amp;ref_src=twsrc%5Etfw\">#ArtificialIntelligence</a> <a href=\"https://twitter.com/hashtag/AI?src=hash&amp;ref_src=twsrc%5Etfw\">#AI</a> <a href=\"https://twitter.com/hashtag/DataScience?src=hash&amp;ref_src=twsrc%5Etfw\">#DataScience</a> <a href=\"https://twitter.com/hashtag/100DaysOfCode?src=hash&amp;ref_src=twsrc%5Etfw\">#100DaysOfCode</a> <a href=\"https://twitter.com/hashtag/Python?src=hash&amp;ref_src=twsrc%5Etfw\">#Python</a> <a href=\"https://twitter.com/hashtag/MachineLearning?src=hash&amp;ref_src=twsrc%5Etfw\">#MachineLearning</a> <a href=\"https://twitter.com/hashtag/BigData?src=hash&amp;ref_src=twsrc%5Etfw\">#BigData</a> <a href=\"https://twitter.com/hashtag/DeepLearning?src=hash&amp;ref_src=twsrc%5Etfw\">#DeepLearning</a> <a href=\"https://twitter.com/hashtag/NLP?src=hash&amp;ref_src=twsrc%5Etfw\">#NLP</a> <a href=\"https://twitter.com/hashtag/Robots?src=hash&amp;ref_src=twsrc%5Etfw\">#Robots</a> <a href=\"https://twitter.com/hashtag/IoT?src=hash&amp;ref_src=twsrc%5Etfw\">#IoT</a></p>&mdash; Iain Brown, PhD (@IainLJBrown) <a href=\"https://twitter.com/IainLJBrown/status/1370900816257818627?ref_src=twsrc%5Etfw\">March 14, 2021</a></blockquote>\n",
       "<script async src=\"https://platform.twitter.com/widgets.js\" charset=\"utf-8\"></script>\n"
      ],
      "text/plain": [
       "<__main__.Tweet at 0x7f705d0ccc40>"
      ]
     },
     "execution_count": 56,
     "metadata": {},
     "output_type": "execute_result"
    }
   ],
   "source": [
    "Tweet(1380590021313462272)"
   ]
  },
  {
   "cell_type": "markdown",
   "id": "c01b20fc",
   "metadata": {},
   "source": [
    "### Extract hashtags\n",
    "\n",
    "Add a new column in the dataframe with the list of hashtags for each tweet\n",
    "\n",
    "(in this case, the metadata are not very friendly)"
   ]
  },
  {
   "cell_type": "code",
   "execution_count": 37,
   "id": "5e24a380",
   "metadata": {},
   "outputs": [],
   "source": [
    "import re # standard module for regular expression\n",
    "\n",
    "def extract_hashtags(text):\n",
    "    \"\"\"\n",
    "    function to extract hashtags in a text\n",
    "    \"\"\"\n",
    "    return re.findall(\"(#\\w+)\", text.lower())"
   ]
  },
  {
   "cell_type": "code",
   "execution_count": 38,
   "id": "c2f1e965",
   "metadata": {},
   "outputs": [
    {
     "data": {
      "text/plain": [
       "['#hashtag']"
      ]
     },
     "execution_count": 38,
     "metadata": {},
     "output_type": "execute_result"
    }
   ],
   "source": [
    "extract_hashtags(\"it is a sentence with an #hashtag\")"
   ]
  },
  {
   "cell_type": "code",
   "execution_count": 39,
   "id": "73ccdaf2",
   "metadata": {},
   "outputs": [],
   "source": [
    "data[\"hashtags\"] = data['text'].str.lower().apply(extract_hashtags)"
   ]
  },
  {
   "cell_type": "code",
   "execution_count": 40,
   "id": "fbb13f28",
   "metadata": {},
   "outputs": [
    {
     "data": {
      "text/plain": [
       "0                                             [#lancetgate]\n",
       "5                                                        []\n",
       "6                                             [#lancetgate]\n",
       "7                                      [#fact, #lancetgate]\n",
       "8                                                        []\n",
       "                                ...                        \n",
       "135775    [#hydroxychloroquine, #lancetgate, #didier_rao...\n",
       "135776    [#hydroxychloroquine, #lancetgate, #didier_rao...\n",
       "135777    [#hydroxychloroquine, #lancetgate, #didier_rao...\n",
       "135778    [#ggrmc, #covidー19, #lancet, #raoult, #lancetg...\n",
       "135779    [#bigpharma, #chloroquine, #remdesevir, #lance...\n",
       "Name: hashtags, Length: 107930, dtype: object"
      ]
     },
     "execution_count": 40,
     "metadata": {},
     "output_type": "execute_result"
    }
   ],
   "source": [
    "data[\"hashtags\"]"
   ]
  },
  {
   "cell_type": "markdown",
   "id": "34087a2a",
   "metadata": {},
   "source": [
    "## Step 3 : Creating networks\n",
    "\n",
    "The idea is to create networks to be analyzed in an other software"
   ]
  },
  {
   "cell_type": "code",
   "execution_count": 13,
   "id": "6518e103",
   "metadata": {},
   "outputs": [],
   "source": [
    "from itertools import combinations # create combinations of a set\n",
    "\n",
    "#pip install network\n",
    "import networkx as nx # library for network analysis in python"
   ]
  },
  {
   "cell_type": "markdown",
   "id": "0b46227e",
   "metadata": {},
   "source": [
    "### Non directed retweet\n",
    "\n",
    "I want to create a network with the properties :\n",
    "\n",
    "- A node is created if a user tweet or retweet. If the user exist, I want to increase by one a parameter weight\n",
    "- A link is created if a user retweet another one\n",
    "\n",
    "To create the network\n",
    "\n",
    "1. Create a graph empty\n",
    "2. I make a loop on all the tweets\n",
    "3. For each tweet, in create node/edge"
   ]
  },
  {
   "cell_type": "code",
   "execution_count": 43,
   "id": "31cdfa0a",
   "metadata": {},
   "outputs": [],
   "source": [
    "network = nx.Graph()"
   ]
  },
  {
   "cell_type": "code",
   "execution_count": 52,
   "id": "45b68e64",
   "metadata": {},
   "outputs": [],
   "source": [
    "# create an empty network\n",
    "network_retweets = nx.Graph()\n",
    "\n",
    "# A loop for each tweet of my dataset\n",
    "for i, line in data.iterrows():\n",
    "    \n",
    "    # name of the user of the tweet\n",
    "    user = str(line[\"author.username\"])\n",
    "    \n",
    "    # is the user already in my network\n",
    "    if not user in network_retweets.nodes:\n",
    "        # if not, we add it with a weight of 1\n",
    "        network_retweets.add_node(user, label=user, weight=1)\n",
    "    else:\n",
    "        # if yes, i only increase its weight\n",
    "        network_retweets.nodes[user][\"weight\"] += 1    \n",
    "\n",
    "    # if the tweet is a retweet\n",
    "    if pd.notnull(line[\"retweeted_username\"]):\n",
    "\n",
    "        # the name of the user retweeted\n",
    "        reweet_user = str(line[\"retweeted_username\"])\n",
    "        \n",
    "        # if the retweeted user is not in the network\n",
    "        if not reweet_user in network_retweets.nodes:\n",
    "            # create a node\n",
    "            network_retweets.add_node(reweet_user, label=reweet_user, weight=1)\n",
    "        else:\n",
    "            # increase the node\n",
    "            network_retweets.nodes[reweet_user][\"weight\"] += 1  \n",
    "\n",
    "        # if there is a retweet\n",
    "        if pd.notnull(reweet_user):\n",
    "            \n",
    "            # if the edge between retweeted user and retweeting user not exist\n",
    "            if not network_retweets.has_edge(user, reweet_user):\n",
    "                # creating the edge\n",
    "                network_retweets.add_edge(user, reweet_user, weight=1)\n",
    "            else:\n",
    "                # increasing its weight\n",
    "                network_retweets[user][reweet_user][\"weight\"] += 1 "
   ]
  },
  {
   "cell_type": "code",
   "execution_count": 53,
   "id": "de847d89",
   "metadata": {},
   "outputs": [
    {
     "data": {
      "text/plain": [
       "71560"
      ]
     },
     "execution_count": 53,
     "metadata": {},
     "output_type": "execute_result"
    }
   ],
   "source": [
    "len(network_retweets.edges)"
   ]
  },
  {
   "cell_type": "code",
   "execution_count": 54,
   "id": "1078568b",
   "metadata": {},
   "outputs": [
    {
     "data": {
      "text/plain": [
       "29186"
      ]
     },
     "execution_count": 54,
     "metadata": {},
     "output_type": "execute_result"
    }
   ],
   "source": [
    "len(network_retweets.nodes)"
   ]
  },
  {
   "cell_type": "markdown",
   "id": "c28e3403",
   "metadata": {},
   "source": [
    "Export it as a file we can open on Gephi"
   ]
  },
  {
   "cell_type": "code",
   "execution_count": 55,
   "id": "e569e4cd",
   "metadata": {},
   "outputs": [],
   "source": [
    "nx.write_graphml(network_retweets,\"./graph_retweets_lancetgate.graphml\")"
   ]
  },
  {
   "cell_type": "markdown",
   "id": "c4ef6dc2",
   "metadata": {},
   "source": [
    "### hashtags\n",
    "\n",
    "- 1-mode network\n",
    "- 2 hashtags connected if mentionned in the same tweet"
   ]
  },
  {
   "cell_type": "code",
   "execution_count": 56,
   "id": "7a3baa34",
   "metadata": {},
   "outputs": [],
   "source": [
    "# empty network\n",
    "network_hashtags = nx.Graph()\n",
    "\n",
    "# every tweets\n",
    "for i, line in data.iterrows():\n",
    "    \n",
    "    # adding the nodes\n",
    "    for e in line[\"hashtags\"]:\n",
    "        if not e in network_hashtags.nodes:\n",
    "            network_hashtags.add_node(e, label=e, weight=1)\n",
    "        else:\n",
    "            network_hashtags.nodes[e][\"weight\"] += 1\n",
    "    \n",
    "    # adding the edges (all combinations)\n",
    "    for i, j in combinations(line[\"hashtags\"], 2): \n",
    "        if not network_hashtags.has_edge(i, j):\n",
    "            network_hashtags.add_edge(i, j, weight=1)\n",
    "        else:\n",
    "            network_hashtags[i][j][\"weight\"] += 1"
   ]
  },
  {
   "cell_type": "code",
   "execution_count": 57,
   "id": "d6b88649",
   "metadata": {},
   "outputs": [
    {
     "name": "stdout",
     "output_type": "stream",
     "text": [
      "2213\n"
     ]
    }
   ],
   "source": [
    "print(len(network_hashtags))"
   ]
  },
  {
   "cell_type": "code",
   "execution_count": 58,
   "id": "3d7eab2f",
   "metadata": {},
   "outputs": [
    {
     "data": {
      "text/plain": [
       "13786"
      ]
     },
     "execution_count": 58,
     "metadata": {},
     "output_type": "execute_result"
    }
   ],
   "source": [
    "len(network_hashtags.edges)"
   ]
  },
  {
   "cell_type": "code",
   "execution_count": 59,
   "id": "dc15e7d4",
   "metadata": {},
   "outputs": [],
   "source": [
    "nx.write_graphml(network_hashtags,\"./graph_hashtags_lancetgate.graphml\")"
   ]
  },
  {
   "cell_type": "markdown",
   "id": "e5c1fedb",
   "metadata": {},
   "source": [
    "## Step 4 : First visualisation"
   ]
  },
  {
   "cell_type": "markdown",
   "id": "e24e57f5",
   "metadata": {},
   "source": [
    "We can try do to dit directly in Python with dedicated tools"
   ]
  },
  {
   "cell_type": "code",
   "execution_count": 12,
   "id": "349725e7",
   "metadata": {},
   "outputs": [],
   "source": [
    "from ipysigma import Sigma"
   ]
  },
  {
   "cell_type": "code",
   "execution_count": 61,
   "id": "e0150b21",
   "metadata": {},
   "outputs": [
    {
     "data": {
      "application/vnd.jupyter.widget-view+json": {
       "model_id": "2b41c193a5e9410386b89a948af883e8",
       "version_major": 2,
       "version_minor": 0
      },
      "text/plain": [
       "Sigma(nx.Graph with 29,186 nodes and 71,560 edges)"
      ]
     },
     "metadata": {},
     "output_type": "display_data"
    }
   ],
   "source": [
    "Sigma(network_retweets, node_size=\"weight\")"
   ]
  },
  {
   "cell_type": "code",
   "execution_count": 62,
   "id": "da627b65",
   "metadata": {},
   "outputs": [
    {
     "data": {
      "application/vnd.jupyter.widget-view+json": {
       "model_id": "0472037382eb489b90578efdfd3cefbd",
       "version_major": 2,
       "version_minor": 0
      },
      "text/plain": [
       "Sigma(nx.Graph with 2,213 nodes and 13,786 edges)"
      ]
     },
     "metadata": {},
     "output_type": "display_data"
    }
   ],
   "source": [
    "Sigma(network_hashtags, node_size=\"weight\")"
   ]
  },
  {
   "cell_type": "markdown",
   "id": "06e9e906",
   "metadata": {},
   "source": [
    "Its huge networks, and the visualisation is not the best. We would like to simply them.\n",
    "\n",
    "- remove the central node\n",
    "- clustering"
   ]
  },
  {
   "cell_type": "markdown",
   "id": "5a0a2871",
   "metadata": {},
   "source": [
    "Or we can move to a dedicated software : Gephi"
   ]
  },
  {
   "cell_type": "code",
   "execution_count": 134,
   "id": "5794ed5c",
   "metadata": {},
   "outputs": [],
   "source": [
    "nx.write_graphml(network_retweets,\"network_retweets.graphml\")"
   ]
  },
  {
   "cell_type": "markdown",
   "id": "162f570e",
   "metadata": {},
   "source": [
    "## Step 5 : Statistics on the network"
   ]
  },
  {
   "cell_type": "code",
   "execution_count": 63,
   "id": "b3aacef7",
   "metadata": {},
   "outputs": [
    {
     "data": {
      "text/plain": [
       "<networkx.classes.graph.Graph at 0x7fb2360b4d90>"
      ]
     },
     "execution_count": 63,
     "metadata": {},
     "output_type": "execute_result"
    }
   ],
   "source": [
    "network_retweets"
   ]
  },
  {
   "cell_type": "code",
   "execution_count": 64,
   "id": "842af0a4",
   "metadata": {},
   "outputs": [],
   "source": [
    "degrees = network_retweets.degree"
   ]
  },
  {
   "cell_type": "code",
   "execution_count": 65,
   "id": "cf13b9b0",
   "metadata": {},
   "outputs": [
    {
     "data": {
      "text/plain": [
       "<AxesSubplot:ylabel='Frequency'>"
      ]
     },
     "execution_count": 65,
     "metadata": {},
     "output_type": "execute_result"
    },
    {
     "data": {
      "image/png": "[encoded data removed]",
      "text/plain": [
       "<Figure size 432x288 with 1 Axes>"
      ]
     },
     "metadata": {
      "needs_background": "light"
     },
     "output_type": "display_data"
    }
   ],
   "source": [
    "pd.DataFrame(list(degrees))[1].plot(kind=\"hist\",bins=100)"
   ]
  },
  {
   "cell_type": "code",
   "execution_count": 66,
   "id": "87d46171",
   "metadata": {},
   "outputs": [
    {
     "data": {
      "text/plain": [
       "2234"
      ]
     },
     "execution_count": 66,
     "metadata": {},
     "output_type": "execute_result"
    }
   ],
   "source": [
    "nx.number_connected_components(network_retweets)"
   ]
  },
  {
   "cell_type": "markdown",
   "id": "2d67252b",
   "metadata": {},
   "source": [
    "Principal component"
   ]
  },
  {
   "cell_type": "code",
   "execution_count": 52,
   "id": "ce9a29c1",
   "metadata": {},
   "outputs": [
    {
     "data": {
      "text/plain": [
       "26743"
      ]
     },
     "execution_count": 52,
     "metadata": {},
     "output_type": "execute_result"
    }
   ],
   "source": [
    "largest_cc = max(nx.connected_components(network_retweets), key=len)\n",
    "len(largest_cc)"
   ]
  },
  {
   "cell_type": "markdown",
   "id": "64e7560e",
   "metadata": {},
   "source": [
    "Extract the component"
   ]
  },
  {
   "cell_type": "code",
   "execution_count": 53,
   "id": "f8adfeed",
   "metadata": {},
   "outputs": [],
   "source": [
    "largest_cc_network = nx.subgraph(network_retweets,largest_cc)"
   ]
  },
  {
   "cell_type": "markdown",
   "id": "b68fb0bc",
   "metadata": {},
   "source": [
    "Write it for analysis with gephi"
   ]
  },
  {
   "cell_type": "code",
   "execution_count": 54,
   "id": "4555f167",
   "metadata": {},
   "outputs": [],
   "source": [
    "nx.write_graphml(largest_cc_network,\"./graph_component_retweets_lancetgate.graphml\")"
   ]
  },
  {
   "cell_type": "markdown",
   "id": "1095d5c7",
   "metadata": {},
   "source": [
    "Calculate the density"
   ]
  },
  {
   "cell_type": "code",
   "execution_count": 68,
   "id": "79692832",
   "metadata": {},
   "outputs": [
    {
     "data": {
      "text/plain": [
       "0.0001680219620388939"
      ]
     },
     "execution_count": 68,
     "metadata": {},
     "output_type": "execute_result"
    }
   ],
   "source": [
    "nx.density(network_retweets)"
   ]
  },
  {
   "cell_type": "markdown",
   "id": "9818c8a7",
   "metadata": {},
   "source": [
    "Calculate the closeness centrality (could take some time)"
   ]
  },
  {
   "cell_type": "code",
   "execution_count": 54,
   "id": "776bc86c",
   "metadata": {},
   "outputs": [
    {
     "data": {
      "text/plain": [
       "0.40169809710726173"
      ]
     },
     "execution_count": 54,
     "metadata": {},
     "output_type": "execute_result"
    }
   ],
   "source": [
    "nx.closeness_centrality(largest_cc_network,u=\"raoult_didier\")"
   ]
  },
  {
   "cell_type": "markdown",
   "id": "5970537a",
   "metadata": {},
   "source": [
    "Find the maximal clique"
   ]
  },
  {
   "cell_type": "code",
   "execution_count": 55,
   "id": "0d1b843c",
   "metadata": {},
   "outputs": [],
   "source": [
    "r = nx.find_cliques(largest_cc_network)"
   ]
  },
  {
   "cell_type": "code",
   "execution_count": 58,
   "id": "bc360568",
   "metadata": {},
   "outputs": [],
   "source": [
    "r = [i for i in r]"
   ]
  },
  {
   "cell_type": "code",
   "execution_count": 61,
   "id": "ebb3bd89",
   "metadata": {},
   "outputs": [
    {
     "data": {
      "text/plain": [
       "['PatracqSerge', 'andrebercoff']"
      ]
     },
     "execution_count": 61,
     "metadata": {},
     "output_type": "execute_result"
    }
   ],
   "source": [
    "r[1]"
   ]
  },
  {
   "cell_type": "markdown",
   "id": "ef913f33",
   "metadata": {},
   "source": [
    "## Step 6 : Add attributes / transform network\n",
    "\n",
    "One the exploration is done, we have more specific question, and we will go back to data ...\n",
    "\n",
    "- Transforming the network : for instance, filter, subsample, etc.\n",
    "- Adding information : categories, polarities (sentiment analysis)"
   ]
  },
  {
   "cell_type": "markdown",
   "id": "69f877c3",
   "metadata": {},
   "source": [
    "#### Focus on the core\n",
    "\n",
    "We will extract only the 3-core of the main component"
   ]
  },
  {
   "cell_type": "code",
   "execution_count": 57,
   "id": "aec381e2",
   "metadata": {},
   "outputs": [],
   "source": [
    "filtered_largest_cc_network = largest_cc_network.copy()"
   ]
  },
  {
   "cell_type": "code",
   "execution_count": 58,
   "id": "e371398b",
   "metadata": {},
   "outputs": [],
   "source": [
    "#remove self-loops\n",
    "filtered_largest_cc_network.remove_edges_from(nx.selfloop_edges(filtered_largest_cc_network))\n",
    "\n",
    "r = nx.k_core(filtered_largest_cc_network,k=3)"
   ]
  },
  {
   "cell_type": "code",
   "execution_count": 60,
   "id": "864ff14a",
   "metadata": {},
   "outputs": [
    {
     "data": {
      "text/plain": [
       "(7323, 26743)"
      ]
     },
     "execution_count": 60,
     "metadata": {},
     "output_type": "execute_result"
    }
   ],
   "source": [
    "len(r.nodes),len(filtered_largest_cc_network.nodes)"
   ]
  },
  {
   "cell_type": "code",
   "execution_count": 62,
   "id": "8b6bb9de",
   "metadata": {},
   "outputs": [],
   "source": [
    "nx.write_graphml(r,\"./graph_3core_component1_retweets_lancetgate.graphml\")"
   ]
  },
  {
   "cell_type": "markdown",
   "id": "c32ce402",
   "metadata": {},
   "source": [
    "#### Clustering"
   ]
  },
  {
   "cell_type": "code",
   "execution_count": 136,
   "id": "a46f6462",
   "metadata": {},
   "outputs": [],
   "source": [
    "import networkx.algorithms.community as nx_comm \n",
    "\n",
    "clusters = nx_comm.louvain_communities(network_hashtags, seed=123, weight=\"weight\")"
   ]
  },
  {
   "cell_type": "code",
   "execution_count": 145,
   "id": "01d26908",
   "metadata": {},
   "outputs": [
    {
     "data": {
      "text/plain": [
       "1       78\n",
       "2        5\n",
       "3        4\n",
       "4        4\n",
       "10       3\n",
       "7        3\n",
       "11       3\n",
       "12       2\n",
       "8        2\n",
       "5        2\n",
       "51       1\n",
       "139      1\n",
       "80       1\n",
       "1808     1\n",
       "27       1\n",
       "9        1\n",
       "15       1\n",
       "238      1\n",
       "223      1\n",
       "32       1\n",
       "22       1\n",
       "6        1\n",
       "228      1\n",
       "26       1\n",
       "127      1\n",
       "95       1\n",
       "24       1\n",
       "47       1\n",
       "dtype: int64"
      ]
     },
     "execution_count": 145,
     "metadata": {},
     "output_type": "execute_result"
    }
   ],
   "source": [
    "pd.Series([len(i) for i in clusters]).value_counts()"
   ]
  },
  {
   "cell_type": "markdown",
   "id": "50159900",
   "metadata": {},
   "source": [
    "Adding it to the network ? lets add a new class in each node, and the number of the class but only if there is at least 50 elements in it"
   ]
  },
  {
   "cell_type": "markdown",
   "id": "50bf6e7d",
   "metadata": {},
   "source": [
    "nx.set_node_attributes(G, labels, \"labels\")"
   ]
  },
  {
   "cell_type": "markdown",
   "id": "5f6d75dd",
   "metadata": {},
   "source": [
    "## Step 7 - Specific application of networks\n",
    "\n",
    "Identify the long discussion on tweeter for qualitative use\n",
    "\n",
    "There is a specific field \"reply to\" and \"quoted\" who allows to create a link between one reply/quote and the original tweet. To identify the most \"replied\" tweet we build a specific network.\n",
    "\n",
    "- id\n",
    "- referenced_tweets.replied_to.id\n",
    "- referenced_tweets.quoted.id"
   ]
  },
  {
   "cell_type": "code",
   "execution_count": 10,
   "id": "39542682",
   "metadata": {},
   "outputs": [
    {
     "data": {
      "text/plain": [
       "0                       None\n",
       "1                       None\n",
       "2                       None\n",
       "3                       None\n",
       "4                       None\n",
       "                ...         \n",
       "85437                   None\n",
       "85438                   None\n",
       "85439                   None\n",
       "85440    1268795710163558400\n",
       "85441                   None\n",
       "Name: referenced_tweets.quoted.id, Length: 85442, dtype: object"
      ]
     },
     "execution_count": 10,
     "metadata": {},
     "output_type": "execute_result"
    }
   ],
   "source": [
    "data[\"referenced_tweets.quoted.id\"].apply(lambda x: None if pd.isnull(x) else str(int(x)))"
   ]
  },
  {
   "cell_type": "code",
   "execution_count": 15,
   "id": "6711bbbf",
   "metadata": {},
   "outputs": [],
   "source": [
    "discussion = nx.Graph()\n",
    "for i,j in data.iterrows():\n",
    "    if pd.notnull(j[\"referenced_tweets.replied_to.id\"]):\n",
    "        e = str(int(j[\"referenced_tweets.replied_to.id\"]))\n",
    "        if not e in discussion.nodes:\n",
    "            discussion.add_node(e, label=e, weight=0)\n",
    "        discussion.nodes[e][\"weight\"]+=1\n",
    "        if not str(j[\"id\"]) in discussion.nodes:\n",
    "            discussion.add_node(str(j[\"id\"]), label=str(j[\"id\"]), weight=0)\n",
    "        discussion.add_edge(str(j[\"id\"]), e, weight=1,cat=\"rep\")\n",
    "        \n",
    "    if pd.notnull(j[\"referenced_tweets.quoted.id\"]):\n",
    "        e = str(int(j[\"referenced_tweets.quoted.id\"]))\n",
    "        if not e in discussion.nodes:\n",
    "            discussion.add_node(e, label=e, weight=0)\n",
    "        discussion.nodes[e][\"weight\"]+=1\n",
    "        if not str(j[\"id\"]) in discussion.nodes:\n",
    "            discussion.add_node(str(j[\"id\"]), label=str(j[\"id\"]), weight=0)\n",
    "        discussion.add_edge(str(j[\"id\"]), e, weight=1,cat=\"quo\")\n",
    "\n",
    "        "
   ]
  },
  {
   "cell_type": "code",
   "execution_count": 16,
   "id": "e009f778",
   "metadata": {},
   "outputs": [
    {
     "data": {
      "text/plain": [
       "(24020, 12763)"
      ]
     },
     "execution_count": 16,
     "metadata": {},
     "output_type": "execute_result"
    }
   ],
   "source": [
    "len(discussion.nodes),len(discussion.edges)"
   ]
  },
  {
   "cell_type": "code",
   "execution_count": 17,
   "id": "d6394dcd",
   "metadata": {},
   "outputs": [
    {
     "data": {
      "text/plain": [
       "11260"
      ]
     },
     "execution_count": 17,
     "metadata": {},
     "output_type": "execute_result"
    }
   ],
   "source": [
    "nx.number_connected_components(discussion)"
   ]
  },
  {
   "cell_type": "code",
   "execution_count": 18,
   "id": "6773c982",
   "metadata": {},
   "outputs": [],
   "source": [
    "comp = nx.connected_components(discussion)"
   ]
  },
  {
   "cell_type": "code",
   "execution_count": 19,
   "id": "ceb75d76",
   "metadata": {},
   "outputs": [],
   "source": [
    "comp = sorted(([i for i in comp]),key=len)"
   ]
  },
  {
   "cell_type": "code",
   "execution_count": 29,
   "id": "445da5d0",
   "metadata": {},
   "outputs": [
    {
     "data": {
      "text/plain": [
       "[26, 31, 34, 84, 88]"
      ]
     },
     "execution_count": 29,
     "metadata": {},
     "output_type": "execute_result"
    }
   ],
   "source": [
    "[len(i) for i in comp[-5:]]"
   ]
  },
  {
   "cell_type": "code",
   "execution_count": 31,
   "id": "aa8b680a",
   "metadata": {
    "scrolled": true
   },
   "outputs": [
    {
     "data": {
      "application/vnd.jupyter.widget-view+json": {
       "model_id": "174094525bb743c2ac4ed15357e2a221",
       "version_major": 2,
       "version_minor": 0
      },
      "text/plain": [
       "Sigma(nx.Graph with 34 nodes and 33 edges)"
      ]
     },
     "metadata": {},
     "output_type": "display_data"
    }
   ],
   "source": [
    "Sigma(discussion.subgraph(comp[-3]),node_size=\"weight\")"
   ]
  },
  {
   "cell_type": "code",
   "execution_count": 89,
   "id": "542f326b",
   "metadata": {},
   "outputs": [
    {
     "data": {
      "text/plain": [
       "'@JamesTodaroMD This is not the first #LancetGate.\\\\n\\\\n@TheLancet chose to publish and later retracted the first supposedly peer-reviewed article linking vaccines to autism.'"
      ]
     },
     "execution_count": 89,
     "metadata": {},
     "output_type": "execute_result"
    }
   ],
   "source": [
    "data[data[\"referenced_tweets.replied_to.id\"]==1268231436932395008][\"text\"].iloc[0]"
   ]
  },
  {
   "cell_type": "code",
   "execution_count": 32,
   "id": "b138e9f3",
   "metadata": {},
   "outputs": [
    {
     "data": {
      "text/html": [
       "<blockquote class=\"twitter-tweet\"><p lang=\"en\" dir=\"ltr\">Finally someone who actually read my tweet instead of shrieking “tin foil hat alert!”</p>&mdash; Nuff Nonsense (@NuffNonsense) <a href=\"https://twitter.com/NuffNonsense/status/1272320358494814208?ref_src=twsrc%5Etfw\">June 15, 2020</a></blockquote>\n",
       "<script async src=\"https://platform.twitter.com/widgets.js\" charset=\"utf-8\"></script>\n"
      ],
      "text/plain": [
       "<__main__.Tweet at 0x7f7074f21790>"
      ]
     },
     "execution_count": 32,
     "metadata": {},
     "output_type": "execute_result"
    }
   ],
   "source": [
    "Tweet(1272320358494814208)"
   ]
  },
  {
   "cell_type": "markdown",
   "id": "f00bc0e2",
   "metadata": {},
   "source": [
    "## Go further\n",
    "\n",
    "\n",
    "- directed networks of retweet ?\n",
    "- links ?\n",
    "- all words ?\n",
    "- proximity with the bio of users ?\n",
    "- can we get an information about the evolution of the network ? How ?\n",
    "- **build the bimodal network tweets/user to better understand what are the most viral tweets**"
   ]
  }
 ],
 "metadata": {
  "kernelspec": {
   "display_name": "Python 3 (ipykernel)",
   "language": "python",
   "name": "python3"
  },
  "language_info": {
   "codemirror_mode": {
    "name": "ipython",
    "version": 3
   },
   "file_extension": ".py",
   "mimetype": "text/x-python",
   "name": "python",
   "nbconvert_exporter": "python",
   "pygments_lexer": "ipython3",
   "version": "3.9.12"
  }
 },
 "nbformat": 4,
 "nbformat_minor": 5
}
