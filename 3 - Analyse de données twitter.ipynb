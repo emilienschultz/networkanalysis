{
 "cells": [
  {
   "cell_type": "markdown",
   "id": "bfea3d39",
   "metadata": {},
   "source": [
    "# Analyse des données Twitter"
   ]
  },
  {
   "cell_type": "markdown",
   "id": "9de7c1a6",
   "metadata": {},
   "source": [
    "La stratégie suit généralement des étapes similaires :\n",
    "\n",
    "- récupération des données\n",
    "- nettoyage et consolidation des données (data management)\n",
    "- construction des réseaux\n",
    "- explorations, visualisations et statistiques\n",
    "\n",
    "Par contre la question principale est  : qu'est-ce que l'on veut étudier ? \n",
    "\n",
    "- un phénomène spécifique sur la plateforme : morphologie, évolution, etc.\n",
    "- des dynamiques (corrélations entre certains comportements et éléments)\n",
    "- d'autres phénomènes en prenant les interactions comme proxy : attitudes\n"
   ]
  },
  {
   "cell_type": "markdown",
   "id": "dad1568d",
   "metadata": {},
   "source": [
    "## 1. Collecter les données\n",
    "\n",
    "In this case, I use `twarc` with commandline. Others options exist, for instance as a librairy.\n",
    "\n",
    "To use `twarc` : https://twarc-project.readthedocs.io/en/latest/twarc2_en_us/"
   ]
  },
  {
   "cell_type": "markdown",
   "id": "d01181cc",
   "metadata": {},
   "source": [
    "## 2 - Consolider les données\n",
    "\n",
    "Pour l'exploration, utilisons `Pandas`"
   ]
  },
  {
   "cell_type": "code",
   "execution_count": 1,
   "id": "0efb9fce",
   "metadata": {},
   "outputs": [],
   "source": [
    "import pandas as pd"
   ]
  },
  {
   "cell_type": "markdown",
   "id": "30f9a1ac",
   "metadata": {},
   "source": [
    "Chargeons les données"
   ]
  },
  {
   "cell_type": "code",
   "execution_count": 2,
   "id": "9f613e0f",
   "metadata": {},
   "outputs": [
    {
     "data": {
      "text/plain": [
       "(208386, 83)"
      ]
     },
     "execution_count": 2,
     "metadata": {},
     "output_type": "execute_result"
    }
   ],
   "source": [
    "data = pd.read_csv(\"../../../../../Téléchargements/tweets_aiORartificial_FULL.csv\", \n",
    "                    low_memory=False)\n",
    "data.shape"
   ]
  },
  {
   "cell_type": "code",
   "execution_count": 3,
   "id": "a397edd7",
   "metadata": {},
   "outputs": [
    {
     "data": {
      "text/html": [
       "<div>\n",
       "<style scoped>\n",
       "    .dataframe tbody tr th:only-of-type {\n",
       "        vertical-align: middle;\n",
       "    }\n",
       "\n",
       "    .dataframe tbody tr th {\n",
       "        vertical-align: top;\n",
       "    }\n",
       "\n",
       "    .dataframe thead th {\n",
       "        text-align: right;\n",
       "    }\n",
       "</style>\n",
       "<table border=\"1\" class=\"dataframe\">\n",
       "  <thead>\n",
       "    <tr style=\"text-align: right;\">\n",
       "      <th></th>\n",
       "      <th>id</th>\n",
       "      <th>conversation_id</th>\n",
       "      <th>referenced_tweets.replied_to.id</th>\n",
       "      <th>referenced_tweets.retweeted.id</th>\n",
       "      <th>referenced_tweets.quoted.id</th>\n",
       "      <th>author_id</th>\n",
       "      <th>in_reply_to_user_id</th>\n",
       "      <th>in_reply_to_username</th>\n",
       "      <th>retweeted_user_id</th>\n",
       "      <th>retweeted_username</th>\n",
       "      <th>...</th>\n",
       "      <th>geo.geo.bbox</th>\n",
       "      <th>geo.geo.type</th>\n",
       "      <th>geo.id</th>\n",
       "      <th>geo.name</th>\n",
       "      <th>geo.place_id</th>\n",
       "      <th>geo.place_type</th>\n",
       "      <th>matching_rules</th>\n",
       "      <th>__twarc.retrieved_at</th>\n",
       "      <th>__twarc.url</th>\n",
       "      <th>__twarc.version</th>\n",
       "    </tr>\n",
       "  </thead>\n",
       "  <tbody>\n",
       "    <tr>\n",
       "      <th>0</th>\n",
       "      <td>1621090140209938432</td>\n",
       "      <td>1621090140209938432</td>\n",
       "      <td>NaN</td>\n",
       "      <td>NaN</td>\n",
       "      <td>1.621032e+18</td>\n",
       "      <td>98652139</td>\n",
       "      <td>NaN</td>\n",
       "      <td>NaN</td>\n",
       "      <td>NaN</td>\n",
       "      <td>NaN</td>\n",
       "      <td>...</td>\n",
       "      <td>NaN</td>\n",
       "      <td>NaN</td>\n",
       "      <td>NaN</td>\n",
       "      <td>NaN</td>\n",
       "      <td>NaN</td>\n",
       "      <td>NaN</td>\n",
       "      <td>NaN</td>\n",
       "      <td>2023-02-02T10:22:42+00:00</td>\n",
       "      <td>https://api.twitter.com/2/tweets/search/all?ex...</td>\n",
       "      <td>2.12.0</td>\n",
       "    </tr>\n",
       "    <tr>\n",
       "      <th>1</th>\n",
       "      <td>1621073114154270720</td>\n",
       "      <td>1621073114154270720</td>\n",
       "      <td>NaN</td>\n",
       "      <td>1.620031e+18</td>\n",
       "      <td>NaN</td>\n",
       "      <td>2602152509</td>\n",
       "      <td>NaN</td>\n",
       "      <td>NaN</td>\n",
       "      <td>1.045620e+18</td>\n",
       "      <td>V7Labs</td>\n",
       "      <td>...</td>\n",
       "      <td>NaN</td>\n",
       "      <td>NaN</td>\n",
       "      <td>NaN</td>\n",
       "      <td>NaN</td>\n",
       "      <td>NaN</td>\n",
       "      <td>NaN</td>\n",
       "      <td>NaN</td>\n",
       "      <td>2023-02-02T10:22:42+00:00</td>\n",
       "      <td>https://api.twitter.com/2/tweets/search/all?ex...</td>\n",
       "      <td>2.12.0</td>\n",
       "    </tr>\n",
       "    <tr>\n",
       "      <th>2</th>\n",
       "      <td>1621056195254517762</td>\n",
       "      <td>1621056195254517762</td>\n",
       "      <td>NaN</td>\n",
       "      <td>NaN</td>\n",
       "      <td>NaN</td>\n",
       "      <td>499643239</td>\n",
       "      <td>NaN</td>\n",
       "      <td>NaN</td>\n",
       "      <td>NaN</td>\n",
       "      <td>NaN</td>\n",
       "      <td>...</td>\n",
       "      <td>NaN</td>\n",
       "      <td>NaN</td>\n",
       "      <td>NaN</td>\n",
       "      <td>NaN</td>\n",
       "      <td>NaN</td>\n",
       "      <td>NaN</td>\n",
       "      <td>NaN</td>\n",
       "      <td>2023-02-02T10:22:42+00:00</td>\n",
       "      <td>https://api.twitter.com/2/tweets/search/all?ex...</td>\n",
       "      <td>2.12.0</td>\n",
       "    </tr>\n",
       "    <tr>\n",
       "      <th>3</th>\n",
       "      <td>1621024454204854272</td>\n",
       "      <td>1621024454204854272</td>\n",
       "      <td>NaN</td>\n",
       "      <td>1.620952e+18</td>\n",
       "      <td>NaN</td>\n",
       "      <td>290980590</td>\n",
       "      <td>NaN</td>\n",
       "      <td>NaN</td>\n",
       "      <td>1.844873e+07</td>\n",
       "      <td>james_goldfarb</td>\n",
       "      <td>...</td>\n",
       "      <td>NaN</td>\n",
       "      <td>NaN</td>\n",
       "      <td>NaN</td>\n",
       "      <td>NaN</td>\n",
       "      <td>NaN</td>\n",
       "      <td>NaN</td>\n",
       "      <td>NaN</td>\n",
       "      <td>2023-02-02T10:22:42+00:00</td>\n",
       "      <td>https://api.twitter.com/2/tweets/search/all?ex...</td>\n",
       "      <td>2.12.0</td>\n",
       "    </tr>\n",
       "    <tr>\n",
       "      <th>4</th>\n",
       "      <td>1621024442632605697</td>\n",
       "      <td>1621024442632605697</td>\n",
       "      <td>NaN</td>\n",
       "      <td>1.620952e+18</td>\n",
       "      <td>NaN</td>\n",
       "      <td>290980590</td>\n",
       "      <td>NaN</td>\n",
       "      <td>NaN</td>\n",
       "      <td>3.402698e+09</td>\n",
       "      <td>DrDreMDPhD</td>\n",
       "      <td>...</td>\n",
       "      <td>NaN</td>\n",
       "      <td>NaN</td>\n",
       "      <td>NaN</td>\n",
       "      <td>NaN</td>\n",
       "      <td>NaN</td>\n",
       "      <td>NaN</td>\n",
       "      <td>NaN</td>\n",
       "      <td>2023-02-02T10:22:42+00:00</td>\n",
       "      <td>https://api.twitter.com/2/tweets/search/all?ex...</td>\n",
       "      <td>2.12.0</td>\n",
       "    </tr>\n",
       "  </tbody>\n",
       "</table>\n",
       "<p>5 rows × 83 columns</p>\n",
       "</div>"
      ],
      "text/plain": [
       "                    id      conversation_id  referenced_tweets.replied_to.id  \\\n",
       "0  1621090140209938432  1621090140209938432                              NaN   \n",
       "1  1621073114154270720  1621073114154270720                              NaN   \n",
       "2  1621056195254517762  1621056195254517762                              NaN   \n",
       "3  1621024454204854272  1621024454204854272                              NaN   \n",
       "4  1621024442632605697  1621024442632605697                              NaN   \n",
       "\n",
       "   referenced_tweets.retweeted.id  referenced_tweets.quoted.id   author_id  \\\n",
       "0                             NaN                 1.621032e+18    98652139   \n",
       "1                    1.620031e+18                          NaN  2602152509   \n",
       "2                             NaN                          NaN   499643239   \n",
       "3                    1.620952e+18                          NaN   290980590   \n",
       "4                    1.620952e+18                          NaN   290980590   \n",
       "\n",
       "   in_reply_to_user_id in_reply_to_username  retweeted_user_id  \\\n",
       "0                  NaN                  NaN                NaN   \n",
       "1                  NaN                  NaN       1.045620e+18   \n",
       "2                  NaN                  NaN                NaN   \n",
       "3                  NaN                  NaN       1.844873e+07   \n",
       "4                  NaN                  NaN       3.402698e+09   \n",
       "\n",
       "  retweeted_username  ...  geo.geo.bbox geo.geo.type geo.id geo.name  \\\n",
       "0                NaN  ...           NaN          NaN    NaN      NaN   \n",
       "1             V7Labs  ...           NaN          NaN    NaN      NaN   \n",
       "2                NaN  ...           NaN          NaN    NaN      NaN   \n",
       "3     james_goldfarb  ...           NaN          NaN    NaN      NaN   \n",
       "4         DrDreMDPhD  ...           NaN          NaN    NaN      NaN   \n",
       "\n",
       "  geo.place_id  geo.place_type  matching_rules       __twarc.retrieved_at  \\\n",
       "0          NaN             NaN             NaN  2023-02-02T10:22:42+00:00   \n",
       "1          NaN             NaN             NaN  2023-02-02T10:22:42+00:00   \n",
       "2          NaN             NaN             NaN  2023-02-02T10:22:42+00:00   \n",
       "3          NaN             NaN             NaN  2023-02-02T10:22:42+00:00   \n",
       "4          NaN             NaN             NaN  2023-02-02T10:22:42+00:00   \n",
       "\n",
       "                                         __twarc.url  __twarc.version  \n",
       "0  https://api.twitter.com/2/tweets/search/all?ex...           2.12.0  \n",
       "1  https://api.twitter.com/2/tweets/search/all?ex...           2.12.0  \n",
       "2  https://api.twitter.com/2/tweets/search/all?ex...           2.12.0  \n",
       "3  https://api.twitter.com/2/tweets/search/all?ex...           2.12.0  \n",
       "4  https://api.twitter.com/2/tweets/search/all?ex...           2.12.0  \n",
       "\n",
       "[5 rows x 83 columns]"
      ]
     },
     "execution_count": 3,
     "metadata": {},
     "output_type": "execute_result"
    }
   ],
   "source": [
    "data.head()"
   ]
  },
  {
   "cell_type": "code",
   "execution_count": 4,
   "id": "d2a84bb8",
   "metadata": {},
   "outputs": [],
   "source": [
    "#data.columns"
   ]
  },
  {
   "cell_type": "markdown",
   "id": "98ea6996",
   "metadata": {},
   "source": [
    "Filtrer uniquement les tweets originaux ?"
   ]
  },
  {
   "cell_type": "code",
   "execution_count": 4,
   "id": "6c279e1d",
   "metadata": {},
   "outputs": [],
   "source": [
    "filtre = pd.isnull(data[\"retweeted_user_id\"]) & pd.isnull(data[\"quoted_user_id\"]) "
   ]
  },
  {
   "cell_type": "code",
   "execution_count": 6,
   "id": "2c9a43b8",
   "metadata": {},
   "outputs": [
    {
     "data": {
      "text/plain": [
       "69810"
      ]
     },
     "execution_count": 6,
     "metadata": {},
     "output_type": "execute_result"
    }
   ],
   "source": [
    "filtre.sum()"
   ]
  },
  {
   "cell_type": "markdown",
   "id": "ae9d3f26",
   "metadata": {},
   "source": [
    "#### Evolution temporelle"
   ]
  },
  {
   "cell_type": "code",
   "execution_count": 7,
   "id": "04d66e5d",
   "metadata": {},
   "outputs": [],
   "source": [
    "data[\"date\"] = pd.to_datetime(data['created_at'])\n",
    "data[\"num\"] = 1"
   ]
  },
  {
   "cell_type": "markdown",
   "id": "c5fa5a72",
   "metadata": {},
   "source": [
    "Visualisation"
   ]
  },
  {
   "cell_type": "code",
   "execution_count": 8,
   "id": "e5f42a22",
   "metadata": {},
   "outputs": [
    {
     "data": {
      "text/plain": [
       "<AxesSubplot:xlabel='date'>"
      ]
     },
     "execution_count": 8,
     "metadata": {},
     "output_type": "execute_result"
    },
    {
     "data": {
      "image/png": "[encoded data removed]",
      "text/plain": [
       "<Figure size 720x216 with 1 Axes>"
      ]
     },
     "metadata": {
      "needs_background": "light"
     },
     "output_type": "display_data"
    }
   ],
   "source": [
    "data[filtre].set_index(\"date\")[\"num\"].resample(\"m\").sum().plot(figsize=(10,3))"
   ]
  },
  {
   "cell_type": "markdown",
   "id": "ba8b0a3a",
   "metadata": {},
   "source": [
    "Explorer les bursts ?"
   ]
  },
  {
   "cell_type": "markdown",
   "id": "fac11d10",
   "metadata": {},
   "source": [
    "Regarder des tweets particuliers : une classe pour visualiser un tweet"
   ]
  },
  {
   "cell_type": "code",
   "execution_count": 9,
   "id": "320bc2d8",
   "metadata": {},
   "outputs": [],
   "source": [
    "import requests\n",
    "class Tweet(object):\n",
    "    \"\"\"\n",
    "    Object to visualize a specific tweet\n",
    "    \"\"\"\n",
    "    def __init__(self, s):\n",
    "        \"\"\"\n",
    "        s : id of a tweet\n",
    "        \"\"\"\n",
    "        s = f\"https://twitter.com/OReillyMedia/status/{s}\"\n",
    "        api = 'https://publish.twitter.com/oembed?url={}'.format(s)\n",
    "        response = requests.get(api)\n",
    "        self.text = response.json()[\"html\"]\n",
    "\n",
    "    def _repr_html_(self):\n",
    "        return self.text"
   ]
  },
  {
   "cell_type": "code",
   "execution_count": 10,
   "id": "6c819857",
   "metadata": {},
   "outputs": [
    {
     "data": {
      "text/html": [
       "<blockquote class=\"twitter-tweet\"><p lang=\"en\" dir=\"ltr\">End-to-End Variational Network reconstructed 2D brain MRIs over a range of undersampling rates <a href=\"https://t.co/suLntUhgZY\">https://t.co/suLntUhgZY</a> <a href=\"https://twitter.com/NYUImaging?ref_src=twsrc%5Etfw\">@NYUImaging</a> <a href=\"https://twitter.com/aibe_fau?ref_src=twsrc%5Etfw\">@aibe_fau</a> <a href=\"https://twitter.com/UniFAU?ref_src=twsrc%5Etfw\">@UniFAU</a> <a href=\"https://twitter.com/hashtag/fastMRI?src=hash&amp;ref_src=twsrc%5Etfw\">#fastMRI</a> <a href=\"https://twitter.com/hashtag/AI?src=hash&amp;ref_src=twsrc%5Etfw\">#AI</a> <a href=\"https://twitter.com/hashtag/MachineLearning?src=hash&amp;ref_src=twsrc%5Etfw\">#MachineLearning</a> <a href=\"https://t.co/cMnIjdJAQ9\">pic.twitter.com/cMnIjdJAQ9</a></p>&mdash; Radiology: Artificial Intelligence (@Radiology_AI) <a href=\"https://twitter.com/Radiology_AI/status/1616149787837108226?ref_src=twsrc%5Etfw\">January 19, 2023</a></blockquote>\n",
       "<script async src=\"https://platform.twitter.com/widgets.js\" charset=\"utf-8\"></script>\n"
      ],
      "text/plain": [
       "<__main__.Tweet at 0x7f1b0b6969a0>"
      ]
     },
     "execution_count": 10,
     "metadata": {},
     "output_type": "execute_result"
    }
   ],
   "source": [
    "Tweet(data.iloc[1001][\"id\"])"
   ]
  },
  {
   "cell_type": "markdown",
   "id": "88e3f246",
   "metadata": {},
   "source": [
    "#### La langue des tweets"
   ]
  },
  {
   "cell_type": "code",
   "execution_count": 11,
   "id": "476fc487",
   "metadata": {},
   "outputs": [
    {
     "data": {
      "text/plain": [
       "en     200966\n",
       "fr       1485\n",
       "es       1295\n",
       "qme       692\n",
       "und       521\n",
       "Name: lang, dtype: int64"
      ]
     },
     "execution_count": 11,
     "metadata": {},
     "output_type": "execute_result"
    }
   ],
   "source": [
    "data['lang'].value_counts().head()"
   ]
  },
  {
   "cell_type": "markdown",
   "id": "8da01acc",
   "metadata": {},
   "source": [
    "We can check it is a French thing : https://trends.google.com/trends/explore?q=lancetgate"
   ]
  },
  {
   "cell_type": "markdown",
   "id": "d8a54d99",
   "metadata": {},
   "source": [
    "Uniquement les tweets français"
   ]
  },
  {
   "cell_type": "code",
   "execution_count": 12,
   "id": "8895bc52",
   "metadata": {},
   "outputs": [],
   "source": [
    "data = data[data['lang']==\"en\"]"
   ]
  },
  {
   "cell_type": "code",
   "execution_count": 13,
   "id": "ffc4a202",
   "metadata": {},
   "outputs": [
    {
     "data": {
      "text/plain": [
       "200966"
      ]
     },
     "execution_count": 13,
     "metadata": {},
     "output_type": "execute_result"
    }
   ],
   "source": [
    "len(data)"
   ]
  },
  {
   "cell_type": "markdown",
   "id": "13a6dd52",
   "metadata": {},
   "source": [
    "#### Les principaux comptes"
   ]
  },
  {
   "cell_type": "code",
   "execution_count": 15,
   "id": "a3266c4f",
   "metadata": {},
   "outputs": [
    {
     "data": {
      "text/plain": [
       "JohnLaprise        9860\n",
       "Radiology_AI       4131\n",
       "VonRosenchild      3814\n",
       "libkey_io          3733\n",
       "RadiologyGamuts    3490\n",
       "Name: author.username, dtype: int64"
      ]
     },
     "execution_count": 15,
     "metadata": {},
     "output_type": "execute_result"
    }
   ],
   "source": [
    "data['author.username'].value_counts().head()"
   ]
  },
  {
   "cell_type": "markdown",
   "id": "aa9e7b6f",
   "metadata": {},
   "source": [
    "Number of users"
   ]
  },
  {
   "cell_type": "code",
   "execution_count": 16,
   "id": "9e8b1aa4",
   "metadata": {},
   "outputs": [
    {
     "data": {
      "text/plain": [
       "37377"
      ]
     },
     "execution_count": 16,
     "metadata": {},
     "output_type": "execute_result"
    }
   ],
   "source": [
    "len(data['author.username'].unique())"
   ]
  },
  {
   "cell_type": "markdown",
   "id": "c01b20fc",
   "metadata": {},
   "source": [
    "### Extract hashtags\n",
    "\n",
    "Add a new column in the dataframe with the list of hashtags for each tweet\n",
    "\n",
    "(in this case, the metadata are not very friendly)"
   ]
  },
  {
   "cell_type": "code",
   "execution_count": 17,
   "id": "5e24a380",
   "metadata": {},
   "outputs": [],
   "source": [
    "import re # standard module for regular expression\n",
    "\n",
    "def extract_hashtags(text):\n",
    "    \"\"\"\n",
    "    function to extract hashtags in a text\n",
    "    \"\"\"\n",
    "    return re.findall(\"(#\\w+)\", text.lower())"
   ]
  },
  {
   "cell_type": "code",
   "execution_count": 18,
   "id": "c2f1e965",
   "metadata": {},
   "outputs": [
    {
     "data": {
      "text/plain": [
       "['#hashtag']"
      ]
     },
     "execution_count": 18,
     "metadata": {},
     "output_type": "execute_result"
    }
   ],
   "source": [
    "extract_hashtags(\"it is a sentence with an #hashtag\")"
   ]
  },
  {
   "cell_type": "code",
   "execution_count": 19,
   "id": "73ccdaf2",
   "metadata": {},
   "outputs": [],
   "source": [
    "data[\"hashtags\"] = data['text'].str.lower().apply(extract_hashtags)"
   ]
  },
  {
   "cell_type": "code",
   "execution_count": 20,
   "id": "fbb13f28",
   "metadata": {},
   "outputs": [
    {
     "data": {
      "text/plain": [
       "0                            [#healthtech, #radiology, #ai]\n",
       "1                                                        []\n",
       "2         [#ai, #mri, #imaging, #radiology, #artificalin...\n",
       "3                                              [#radaichat]\n",
       "4                                              [#radaichat]\n",
       "                                ...                        \n",
       "208378                                                   []\n",
       "208380                                                   []\n",
       "208381                                                   []\n",
       "208384                                                   []\n",
       "208385                                                   []\n",
       "Name: hashtags, Length: 200966, dtype: object"
      ]
     },
     "execution_count": 20,
     "metadata": {},
     "output_type": "execute_result"
    }
   ],
   "source": [
    "data[\"hashtags\"]"
   ]
  },
  {
   "cell_type": "markdown",
   "id": "34087a2a",
   "metadata": {},
   "source": [
    "## Step 3 : Creating networks\n",
    "\n",
    "The idea is to create networks to be analyzed in an other software"
   ]
  },
  {
   "cell_type": "code",
   "execution_count": 22,
   "id": "6518e103",
   "metadata": {},
   "outputs": [],
   "source": [
    "from itertools import combinations # create combinations of a set\n",
    "\n",
    "#pip install network\n",
    "import networkx as nx # library for network analysis in python"
   ]
  },
  {
   "cell_type": "markdown",
   "id": "0b46227e",
   "metadata": {},
   "source": [
    "### Non directed retweet\n",
    "\n",
    "I want to create a network with the properties :\n",
    "\n",
    "- A node is created if a user tweet or retweet. If the user exist, I want to increase by one a parameter weight\n",
    "- A link is created if a user retweet another one\n",
    "\n",
    "To create the network\n",
    "\n",
    "1. Create a graph empty\n",
    "2. I make a loop on all the tweets\n",
    "3. For each tweet, in create node/edge"
   ]
  },
  {
   "cell_type": "code",
   "execution_count": 23,
   "id": "45b68e64",
   "metadata": {},
   "outputs": [],
   "source": [
    "# create an empty network\n",
    "network_retweets = nx.Graph()\n",
    "\n",
    "# A loop for each tweet of my dataset\n",
    "for i, line in data.iterrows():\n",
    "    \n",
    "    # name of the user of the tweet\n",
    "    user = str(line[\"author.username\"])\n",
    "    \n",
    "    # is the user already in my network\n",
    "    if not user in network_retweets.nodes:\n",
    "        # if not, we add it with a weight of 1\n",
    "        network_retweets.add_node(user, label=user, weight=1)\n",
    "    else:\n",
    "        # if yes, i only increase its weight\n",
    "        network_retweets.nodes[user][\"weight\"] += 1    \n",
    "\n",
    "    # if the tweet is a retweet\n",
    "    if pd.notnull(line[\"retweeted_username\"]):\n",
    "\n",
    "        # the name of the user retweeted\n",
    "        retweet_user = str(line[\"retweeted_username\"])\n",
    "        \n",
    "        # if the retweeted user is not in the network\n",
    "        if not retweet_user in network_retweets.nodes:\n",
    "            # create a node\n",
    "            network_retweets.add_node(retweet_user, label=retweet_user, weight=0)\n",
    "\n",
    "        # if there is a retweet\n",
    "        if pd.notnull(retweet_user):\n",
    "            \n",
    "            # if the edge between retweeted user and retweeting user not exist\n",
    "            if not network_retweets.has_edge(user, retweet_user):\n",
    "                # creating the edge\n",
    "                network_retweets.add_edge(user, retweet_user, weight=1)\n",
    "            else:\n",
    "                # increasing its weight\n",
    "                network_retweets[user][retweet_user][\"weight\"] += 1 "
   ]
  },
  {
   "cell_type": "code",
   "execution_count": 24,
   "id": "de847d89",
   "metadata": {},
   "outputs": [
    {
     "data": {
      "text/plain": [
       "58763"
      ]
     },
     "execution_count": 24,
     "metadata": {},
     "output_type": "execute_result"
    }
   ],
   "source": [
    "len(network_retweets.edges)"
   ]
  },
  {
   "cell_type": "code",
   "execution_count": 25,
   "id": "1078568b",
   "metadata": {},
   "outputs": [
    {
     "data": {
      "text/plain": [
       "37471"
      ]
     },
     "execution_count": 25,
     "metadata": {},
     "output_type": "execute_result"
    }
   ],
   "source": [
    "len(network_retweets.nodes)"
   ]
  },
  {
   "cell_type": "markdown",
   "id": "c28e3403",
   "metadata": {},
   "source": [
    "Export it as a file we can open on Gephi"
   ]
  },
  {
   "cell_type": "code",
   "execution_count": 55,
   "id": "e569e4cd",
   "metadata": {},
   "outputs": [],
   "source": [
    "nx.write_graphml(network_retweets,\"./graph_retweets_lancetgate.graphml\")"
   ]
  },
  {
   "cell_type": "code",
   "execution_count": 26,
   "id": "b48b4ac5",
   "metadata": {},
   "outputs": [],
   "source": [
    "from ipysigma import Sigma"
   ]
  },
  {
   "cell_type": "code",
   "execution_count": 27,
   "id": "63993149",
   "metadata": {},
   "outputs": [],
   "source": [
    "nodes_ss =  [i for i in network_retweets.nodes if network_retweets.nodes[i][\"weight\"]>10]"
   ]
  },
  {
   "cell_type": "code",
   "execution_count": 28,
   "id": "64b5b6fd",
   "metadata": {},
   "outputs": [
    {
     "data": {
      "application/vnd.jupyter.widget-view+json": {
       "model_id": "1afde225b66a4acd8942a05d6592c63c",
       "version_major": 2,
       "version_minor": 0
      },
      "text/plain": [
       "Sigma(nx.Graph with 1,993 nodes and 18,908 edges)"
      ]
     },
     "metadata": {},
     "output_type": "display_data"
    }
   ],
   "source": [
    "Sigma(network_retweets.subgraph(nodes_ss),node_size=\"weight\")"
   ]
  },
  {
   "cell_type": "markdown",
   "id": "c4ef6dc2",
   "metadata": {},
   "source": [
    "### hashtags\n",
    "\n",
    "- 1-mode network\n",
    "- 2 hashtags connected if mentionned in the same tweet"
   ]
  },
  {
   "cell_type": "code",
   "execution_count": 29,
   "id": "7a3baa34",
   "metadata": {},
   "outputs": [],
   "source": [
    "# empty network\n",
    "network_hashtags = nx.Graph()\n",
    "\n",
    "# every tweets\n",
    "for i, line in data.iterrows():\n",
    "    \n",
    "    # adding the nodes\n",
    "    for e in line[\"hashtags\"]:\n",
    "        if not e in network_hashtags.nodes:\n",
    "            network_hashtags.add_node(e, label=e, weight=1)\n",
    "        else:\n",
    "            network_hashtags.nodes[e][\"weight\"] += 1\n",
    "    \n",
    "    # adding the edges (all combinations)\n",
    "    for i, j in combinations(line[\"hashtags\"], 2): \n",
    "        if not network_hashtags.has_edge(i, j):\n",
    "            network_hashtags.add_edge(i, j, weight=1)\n",
    "        else:\n",
    "            network_hashtags[i][j][\"weight\"] += 1"
   ]
  },
  {
   "cell_type": "code",
   "execution_count": 30,
   "id": "d6b88649",
   "metadata": {},
   "outputs": [
    {
     "name": "stdout",
     "output_type": "stream",
     "text": [
      "11417\n"
     ]
    }
   ],
   "source": [
    "print(len(network_hashtags))"
   ]
  },
  {
   "cell_type": "code",
   "execution_count": 31,
   "id": "3d7eab2f",
   "metadata": {
    "scrolled": true
   },
   "outputs": [
    {
     "data": {
      "text/plain": [
       "101045"
      ]
     },
     "execution_count": 31,
     "metadata": {},
     "output_type": "execute_result"
    }
   ],
   "source": [
    "len(network_hashtags.edges)"
   ]
  },
  {
   "cell_type": "code",
   "execution_count": 59,
   "id": "dc15e7d4",
   "metadata": {},
   "outputs": [],
   "source": [
    "nx.write_graphml(network_hashtags,\"./graph_hashtags_lancetgate.graphml\")"
   ]
  },
  {
   "cell_type": "code",
   "execution_count": 34,
   "id": "5bb7ada7",
   "metadata": {},
   "outputs": [],
   "source": [
    "nodes_ss =  [i for i in network_hashtags.nodes if network_hashtags.nodes[i][\"weight\"]>10]"
   ]
  },
  {
   "cell_type": "code",
   "execution_count": 35,
   "id": "caccd4e2",
   "metadata": {},
   "outputs": [
    {
     "data": {
      "application/vnd.jupyter.widget-view+json": {
       "model_id": "307daba9ba8c46299f5d47e36795e316",
       "version_major": 2,
       "version_minor": 0
      },
      "text/plain": [
       "Sigma(nx.Graph with 2,380 nodes and 47,796 edges)"
      ]
     },
     "metadata": {},
     "output_type": "display_data"
    }
   ],
   "source": [
    "Sigma(network_hashtags.subgraph(nodes_ss),node_size=\"weight\")"
   ]
  }
 ],
 "metadata": {
  "kernelspec": {
   "display_name": "Python 3 (ipykernel)",
   "language": "python",
   "name": "python3"
  },
  "language_info": {
   "codemirror_mode": {
    "name": "ipython",
    "version": 3
   },
   "file_extension": ".py",
   "mimetype": "text/x-python",
   "name": "python",
   "nbconvert_exporter": "python",
   "pygments_lexer": "ipython3",
   "version": "3.9.12"
  }
 },
 "nbformat": 4,
 "nbformat_minor": 5
}
