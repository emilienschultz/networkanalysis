{
 "cells": [
  {
   "cell_type": "markdown",
   "id": "8d8f9a0e",
   "metadata": {},
   "source": [
    "# Présentation des notions générales"
   ]
  },
  {
   "cell_type": "markdown",
   "id": "1e33317b",
   "metadata": {},
   "source": [
    "## Networkx\n",
    "\n",
    "Bibliothèque pour manipuler des objets de type réseau et calculer différentes statistiques\n",
    "\n",
    "Pour un tutorial plus complet : https://networkx.org/documentation/stable/tutorial.html"
   ]
  },
  {
   "cell_type": "code",
   "execution_count": 1,
   "id": "1ed1c43d",
   "metadata": {},
   "outputs": [],
   "source": [
    "#pip install networkx\n",
    "import networkx as nx"
   ]
  },
  {
   "cell_type": "markdown",
   "id": "c7981e5a",
   "metadata": {},
   "source": [
    "### Le réseau : un objet"
   ]
  },
  {
   "cell_type": "markdown",
   "id": "975109cb",
   "metadata": {},
   "source": [
    "Création d'un réseau"
   ]
  },
  {
   "cell_type": "code",
   "execution_count": 2,
   "id": "d35c2156",
   "metadata": {},
   "outputs": [],
   "source": [
    "G = nx.Graph()"
   ]
  },
  {
   "cell_type": "code",
   "execution_count": 3,
   "id": "5ec30b2c",
   "metadata": {},
   "outputs": [
    {
     "data": {
      "text/plain": [
       "networkx.classes.graph.Graph"
      ]
     },
     "execution_count": 3,
     "metadata": {},
     "output_type": "execute_result"
    }
   ],
   "source": [
    "type(G)"
   ]
  },
  {
   "cell_type": "code",
   "execution_count": 4,
   "id": "548fd5b8",
   "metadata": {},
   "outputs": [
    {
     "data": {
      "text/plain": [
       "0"
      ]
     },
     "execution_count": 4,
     "metadata": {},
     "output_type": "execute_result"
    }
   ],
   "source": [
    "len(G)"
   ]
  },
  {
   "cell_type": "markdown",
   "id": "a3d6fe40",
   "metadata": {},
   "source": [
    "Il est possible de construire étape par étape un réseau"
   ]
  },
  {
   "cell_type": "code",
   "execution_count": 4,
   "id": "27df62af",
   "metadata": {},
   "outputs": [],
   "source": [
    "G.add_node(\"Emilien\")"
   ]
  },
  {
   "cell_type": "code",
   "execution_count": 5,
   "id": "e0a74f17",
   "metadata": {},
   "outputs": [],
   "source": [
    "G.add_node(\"Python\")"
   ]
  },
  {
   "cell_type": "code",
   "execution_count": 6,
   "id": "d48b5616",
   "metadata": {},
   "outputs": [],
   "source": [
    "G.add_edge(\"Emilien\",\"Python\")"
   ]
  },
  {
   "cell_type": "code",
   "execution_count": 7,
   "id": "5ba667aa",
   "metadata": {},
   "outputs": [
    {
     "data": {
      "text/plain": [
       "(1, 2)"
      ]
     },
     "execution_count": 7,
     "metadata": {},
     "output_type": "execute_result"
    }
   ],
   "source": [
    "len(G.edges),len(G.nodes)"
   ]
  },
  {
   "cell_type": "code",
   "execution_count": 8,
   "id": "b014338b",
   "metadata": {},
   "outputs": [
    {
     "data": {
      "text/plain": [
       "EdgeView([('Emilien', 'Python')])"
      ]
     },
     "execution_count": 8,
     "metadata": {},
     "output_type": "execute_result"
    }
   ],
   "source": [
    "G.edges"
   ]
  },
  {
   "cell_type": "code",
   "execution_count": 9,
   "id": "45478e04",
   "metadata": {},
   "outputs": [],
   "source": [
    "G.add_node(\"R\")\n",
    "G.add_edge(\"Emilien\",\"R\")"
   ]
  },
  {
   "cell_type": "markdown",
   "id": "c478d5fc",
   "metadata": {},
   "source": [
    "On peut supprimer un noeud"
   ]
  },
  {
   "cell_type": "code",
   "execution_count": 10,
   "id": "2e6c3ee9",
   "metadata": {},
   "outputs": [],
   "source": [
    "G.remove_edge(\"Emilien\",\"R\")"
   ]
  },
  {
   "cell_type": "markdown",
   "id": "35117149",
   "metadata": {},
   "source": [
    "Il est possible d'ajouter différentes propriétés sur le réseau, par exemple des labels"
   ]
  },
  {
   "cell_type": "code",
   "execution_count": 12,
   "id": "08497df6",
   "metadata": {},
   "outputs": [],
   "source": [
    "G[\"Emilien\"][\"Python\"][\"Usage\"] = \"Fréquent\""
   ]
  },
  {
   "cell_type": "code",
   "execution_count": 13,
   "id": "f799cd50",
   "metadata": {},
   "outputs": [
    {
     "data": {
      "text/plain": [
       "{'Usage': 'Fréquent'}"
      ]
     },
     "execution_count": 13,
     "metadata": {},
     "output_type": "execute_result"
    }
   ],
   "source": [
    "G.edges[\"Emilien\",\"Python\"]"
   ]
  },
  {
   "cell_type": "markdown",
   "id": "f62e4609",
   "metadata": {},
   "source": [
    "### Différents types de graph\n",
    "\n",
    "- orientés : DiGraph\n",
    "- bimodaux : ajouter des catégories\n",
    "- multiples : MultiGraph"
   ]
  },
  {
   "cell_type": "markdown",
   "id": "fec74902",
   "metadata": {},
   "source": [
    "### Générer des graphs aléatoires"
   ]
  },
  {
   "cell_type": "code",
   "execution_count": 24,
   "id": "a6e4d139",
   "metadata": {},
   "outputs": [],
   "source": [
    "ba = nx.barabasi_albert_graph(100, 5)"
   ]
  },
  {
   "cell_type": "code",
   "execution_count": 26,
   "id": "142a050c",
   "metadata": {},
   "outputs": [
    {
     "data": {
      "text/plain": [
       "EdgeView([(0, 1), (0, 2), (0, 3), (0, 4), (0, 5), (0, 6), (0, 7), (0, 8), (0, 9), (0, 10), (0, 11), (0, 12), (0, 13), (0, 14), (0, 15), (0, 16), (0, 18), (0, 19), (0, 20), (0, 21), (0, 22), (0, 24), (0, 26), (0, 31), (0, 33), (0, 40), (0, 41), (0, 60), (0, 64), (0, 65), (0, 66), (0, 69), (0, 71), (0, 76), (0, 78), (0, 81), (1, 12), (1, 51), (2, 6), (2, 10), (2, 23), (2, 28), (2, 30), (2, 31), (2, 32), (2, 36), (2, 67), (2, 81), (2, 84), (2, 92), (2, 96), (3, 6), (3, 7), (3, 9), (3, 11), (3, 16), (3, 19), (3, 26), (3, 41), (3, 46), (3, 62), (3, 69), (3, 70), (3, 78), (3, 84), (3, 89), (3, 90), (3, 94), (4, 6), (4, 7), (4, 8), (4, 25), (4, 32), (4, 39), (4, 42), (4, 60), (4, 73), (4, 86), (5, 6), (5, 7), (5, 8), (5, 9), (5, 10), (5, 11), (5, 12), (5, 13), (5, 16), (5, 18), (5, 20), (5, 23), (5, 28), (5, 30), (5, 39), (5, 42), (5, 44), (5, 45), (5, 53), (5, 63), (5, 73), (5, 76), (5, 85), (5, 88), (5, 92), (5, 96), (6, 7), (6, 8), (6, 10), (6, 11), (6, 12), (6, 13), (6, 14), (6, 17), (6, 19), (6, 20), (6, 23), (6, 25), (6, 26), (6, 30), (6, 32), (6, 34), (6, 36), (6, 41), (6, 47), (6, 51), (6, 64), (6, 75), (6, 82), (7, 8), (7, 9), (7, 10), (7, 11), (7, 13), (7, 14), (7, 15), (7, 18), (7, 19), (7, 21), (7, 22), (7, 26), (7, 29), (7, 33), (7, 37), (7, 47), (7, 50), (7, 57), (7, 65), (7, 68), (7, 73), (7, 79), (7, 83), (7, 87), (7, 89), (7, 94), (8, 9), (8, 13), (8, 14), (8, 16), (8, 17), (8, 19), (8, 24), (8, 28), (8, 31), (8, 38), (8, 41), (8, 43), (8, 44), (8, 45), (8, 46), (8, 50), (8, 53), (8, 55), (8, 57), (8, 59), (8, 63), (8, 71), (8, 76), (8, 80), (8, 81), (8, 86), (8, 92), (8, 97), (8, 98), (9, 14), (9, 17), (9, 21), (9, 22), (9, 27), (9, 34), (9, 41), (9, 43), (9, 45), (9, 53), (9, 57), (9, 59), (9, 61), (9, 62), (9, 79), (9, 80), (9, 84), (9, 86), (10, 12), (10, 15), (10, 27), (10, 32), (10, 34), (10, 35), (10, 38), (10, 40), (10, 46), (10, 47), (10, 56), (10, 58), (10, 83), (10, 89), (11, 17), (11, 22), (11, 29), (11, 38), (11, 40), (11, 44), (11, 63), (11, 68), (11, 72), (12, 15), (12, 20), (12, 37), (12, 48), (12, 49), (12, 50), (12, 52), (12, 68), (12, 78), (12, 83), (12, 89), (12, 90), (12, 98), (13, 15), (13, 17), (13, 18), (13, 22), (13, 23), (13, 24), (13, 34), (13, 35), (13, 54), (13, 56), (13, 61), (13, 69), (13, 76), (13, 87), (13, 90), (14, 18), (14, 69), (14, 70), (15, 16), (15, 20), (15, 21), (15, 24), (15, 27), (15, 36), (15, 56), (15, 58), (15, 59), (15, 77), (15, 80), (15, 92), (16, 23), (16, 31), (16, 37), (16, 44), (16, 48), (16, 49), (16, 52), (16, 53), (16, 63), (16, 73), (16, 74), (16, 89), (17, 21), (17, 25), (17, 45), (17, 66), (17, 80), (17, 88), (17, 91), (17, 93), (17, 94), (18, 27), (18, 28), (18, 33), (18, 45), (18, 54), (18, 56), (18, 85), (18, 97), (19, 29), (19, 30), (19, 39), (19, 51), (19, 75), (19, 78), (19, 85), (20, 42), (20, 43), (20, 46), (20, 53), (20, 66), (20, 67), (20, 86), (21, 24), (21, 25), (21, 35), (21, 47), (21, 48), (21, 52), (21, 54), (21, 60), (21, 78), (21, 99), (22, 40), (22, 44), (22, 87), (22, 94), (22, 95), (22, 97), (23, 27), (23, 32), (23, 37), (23, 40), (23, 43), (23, 46), (23, 50), (23, 88), (23, 96), (24, 25), (24, 26), (24, 34), (24, 36), (24, 38), (24, 39), (24, 48), (24, 51), (24, 64), (24, 72), (24, 77), (24, 82), (24, 83), (25, 29), (25, 35), (25, 36), (25, 54), (25, 55), (25, 58), (25, 66), (25, 94), (26, 52), (26, 55), (27, 28), (27, 29), (27, 30), (27, 31), (27, 33), (27, 48), (27, 63), (27, 67), (27, 71), (27, 84), (28, 39), (28, 54), (28, 56), (28, 64), (28, 72), (28, 83), (28, 91), (28, 99), (29, 33), (29, 42), (29, 55), (29, 61), (29, 66), (29, 67), (29, 71), (29, 75), (29, 92), (30, 38), (30, 60), (31, 55), (32, 35), (32, 64), (32, 90), (33, 37), (33, 62), (33, 67), (33, 68), (33, 70), (33, 73), (33, 77), (33, 91), (33, 98), (34, 57), (34, 77), (35, 43), (35, 47), (35, 69), (35, 86), (35, 87), (36, 42), (37, 49), (37, 58), (37, 61), (37, 82), (38, 76), (39, 52), (39, 60), (39, 81), (39, 95), (40, 58), (41, 70), (42, 72), (42, 79), (42, 84), (43, 49), (43, 65), (44, 95), (45, 50), (45, 59), (45, 61), (45, 74), (45, 87), (46, 71), (46, 91), (47, 51), (47, 95), (48, 49), (49, 57), (49, 93), (49, 98), (50, 62), (50, 93), (50, 99), (51, 88), (51, 99), (53, 59), (53, 68), (53, 75), (53, 91), (53, 93), (54, 96), (55, 72), (58, 74), (58, 77), (59, 95), (60, 62), (60, 65), (61, 65), (61, 79), (62, 85), (64, 79), (64, 82), (64, 96), (64, 98), (65, 70), (65, 74), (65, 81), (68, 93), (71, 74), (72, 80), (74, 75), (75, 90), (78, 97), (79, 99), (81, 82), (83, 85), (83, 88), (91, 97)])"
      ]
     },
     "execution_count": 26,
     "metadata": {},
     "output_type": "execute_result"
    }
   ],
   "source": [
    "ba.edges"
   ]
  },
  {
   "cell_type": "markdown",
   "id": "64a2d0ae",
   "metadata": {},
   "source": [
    "## Manipuler des graphs\n",
    "\n",
    "Possibilité de combiner (union), de filtrer (subgraph), ou de projeter des graphs. De tester l'existence de relations entre deux noeuds ou de récupérer les chemins existants\n",
    "\n",
    "Mais aussi de récupérer uniquement les voisins, les noeuds connectés, les différentes composantes"
   ]
  },
  {
   "cell_type": "code",
   "execution_count": 21,
   "id": "928deb2d",
   "metadata": {},
   "outputs": [],
   "source": [
    "H = nx.Graph()\n",
    "H.add_node(\"Léo\")\n",
    "H.add_node(\"SPSS\")\n",
    "H.add_edge(\"Léo\",\"SPSS\")\n",
    "H.add_edge(\"Léo\",\"Python\")\n",
    "H.add_edge(\"Léo\",\"R\")"
   ]
  },
  {
   "cell_type": "code",
   "execution_count": 22,
   "id": "40a0cb01",
   "metadata": {},
   "outputs": [],
   "source": [
    "I = nx.compose(G,H)"
   ]
  },
  {
   "cell_type": "code",
   "execution_count": 23,
   "id": "8de72a1e",
   "metadata": {},
   "outputs": [
    {
     "data": {
      "text/plain": [
       "NodeView(('Emilien', 'Python', 'R', 'Léo', 'SPSS'))"
      ]
     },
     "execution_count": 23,
     "metadata": {},
     "output_type": "execute_result"
    }
   ],
   "source": [
    "I.nodes"
   ]
  },
  {
   "cell_type": "markdown",
   "id": "1711cef1",
   "metadata": {},
   "source": [
    "### Visualisation rapide\n",
    "\n",
    "La spatialisation est \"minimale\""
   ]
  },
  {
   "cell_type": "code",
   "execution_count": 24,
   "id": "733146ec",
   "metadata": {},
   "outputs": [
    {
     "data": {
      "image/png": "[encoded data removed]",
      "text/plain": [
       "<Figure size 432x288 with 1 Axes>"
      ]
     },
     "metadata": {},
     "output_type": "display_data"
    }
   ],
   "source": [
    "nx.draw(I, with_labels=True)"
   ]
  },
  {
   "cell_type": "markdown",
   "id": "723b3708",
   "metadata": {},
   "source": [
    "### Stocker des graphs\n",
    "\n",
    "Une fois l'objet construit, il résume toute notre information est il est possible de le stocker"
   ]
  },
  {
   "cell_type": "code",
   "execution_count": 27,
   "id": "a6199153",
   "metadata": {},
   "outputs": [],
   "source": [
    "nx.write_graphml(G,\"reseau.graphml\")"
   ]
  },
  {
   "cell_type": "markdown",
   "id": "2ff2e8c4",
   "metadata": {},
   "source": [
    "### Calculer les statistiques d'un graph"
   ]
  },
  {
   "cell_type": "markdown",
   "id": "7ad8b171",
   "metadata": {},
   "source": [
    "Tout un ensemble de fonctions qui permettent d'obtenir les résultats habituels"
   ]
  },
  {
   "cell_type": "code",
   "execution_count": 48,
   "id": "2f27829b",
   "metadata": {},
   "outputs": [
    {
     "data": {
      "text/plain": [
       "0.09595959595959595"
      ]
     },
     "execution_count": 48,
     "metadata": {},
     "output_type": "execute_result"
    }
   ],
   "source": [
    "nx.density(G)"
   ]
  },
  {
   "cell_type": "code",
   "execution_count": 64,
   "id": "0a89b00d",
   "metadata": {},
   "outputs": [
    {
     "data": {
      "text/plain": [
       "2"
      ]
     },
     "execution_count": 64,
     "metadata": {},
     "output_type": "execute_result"
    }
   ],
   "source": [
    "nx.number_connected_components(G)"
   ]
  },
  {
   "cell_type": "markdown",
   "id": "fa7108da",
   "metadata": {},
   "source": [
    "### Afficher de manière dynamique : ipysigma\n",
    "\n",
    "Pour toute la documentation : https://github.com/medialab/ipysigma\n",
    "\n",
    "Attention dans certains cas il faut autoriser le widget de s'activer."
   ]
  },
  {
   "cell_type": "code",
   "execution_count": 25,
   "id": "881cc85b",
   "metadata": {},
   "outputs": [],
   "source": [
    "#pip install ipysigma\n",
    "from ipysigma import Sigma"
   ]
  },
  {
   "cell_type": "code",
   "execution_count": 27,
   "id": "54966579",
   "metadata": {},
   "outputs": [
    {
     "data": {
      "application/vnd.jupyter.widget-view+json": {
       "model_id": "12b64aeb1d034e56a645379d041df3bc",
       "version_major": 2,
       "version_minor": 0
      },
      "text/plain": [
       "Sigma(nx.Graph with 5 nodes and 4 edges)"
      ]
     },
     "metadata": {},
     "output_type": "display_data"
    }
   ],
   "source": [
    "Sigma(I,node_size=I.degree)"
   ]
  }
 ],
 "metadata": {
  "kernelspec": {
   "display_name": "Python 3 (ipykernel)",
   "language": "python",
   "name": "python3"
  },
  "language_info": {
   "codemirror_mode": {
    "name": "ipython",
    "version": 3
   },
   "file_extension": ".py",
   "mimetype": "text/x-python",
   "name": "python",
   "nbconvert_exporter": "python",
   "pygments_lexer": "ipython3",
   "version": "3.9.12"
  }
 },
 "nbformat": 4,
 "nbformat_minor": 5
}
