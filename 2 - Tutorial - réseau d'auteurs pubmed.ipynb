{
 "cells": [
  {
   "cell_type": "markdown",
   "id": "aef87121",
   "metadata": {},
   "source": [
    "# Tutorial : analyse de réseaux de publications\n",
    "\n",
    "Pour cet exemple, nous allons nous concentrer sur le cas des publications de Pubmed.\n",
    "\n",
    "Toute démarche d'analyse de réseaux comprend au moins ces 5 étapes :\n",
    "\n",
    "1. Collecte des données\n",
    "2. Exploration et mise en forme des données\n",
    "3. Construction d'un réseau avec différentes caractéristiques\n",
    "4. Caractérisation du réseau et statistiques\n",
    "5. Finalisation des résulats et visualisation"
   ]
  },
  {
   "cell_type": "markdown",
   "id": "f73527fe",
   "metadata": {},
   "source": [
    "## 1. Collecte des données\n",
    "\n",
    "on utilise l'existence d'une API pour pubmed et l'existence d'une bibliothèque dédiée produite par des biologistes"
   ]
  },
  {
   "cell_type": "code",
   "execution_count": 2,
   "id": "793a6df3",
   "metadata": {},
   "outputs": [],
   "source": [
    "import pandas as pd\n",
    "import pickle\n",
    "import Bio #pip install biopython"
   ]
  },
  {
   "cell_type": "markdown",
   "id": "c7cad3c0",
   "metadata": {},
   "source": [
    "Il y a une explication de comment utiliser l'API ici : "
   ]
  },
  {
   "cell_type": "code",
   "execution_count": 3,
   "id": "f18c1892",
   "metadata": {},
   "outputs": [],
   "source": [
    "def search(query):\n",
    "    \"\"\"\n",
    "    Récupérer les ids d'articles liés à une requête\n",
    "    \"\"\"\n",
    "    Entrez.email = \"emilien.schultz@sciencespo.fr\"\n",
    "    handle = Bio.Entrez.esearch(db='pubmed',\n",
    "    sort='relevance',\n",
    "    retmax='250000',\n",
    "    retmode='xml',\n",
    "    term=query)\n",
    "    results = Entrez.read(handle)\n",
    "    return results\n",
    "\n",
    "def fetch_details(id_list):\n",
    "    \"\"\"\n",
    "    Récupérer les informations de certains articles\n",
    "    \"\"\"\n",
    "    ids = ','.join(id_list)\n",
    "    Entrez.email = \"emilien.schultz@sciencespo.fr\"\n",
    "    handle = Bio.Entrez.efetch(db='pubmed',\n",
    "    retmode='xml',id=ids)\n",
    "    results = Entrez.read(handle)\n",
    "    return results"
   ]
  },
  {
   "cell_type": "markdown",
   "id": "3f768042",
   "metadata": {},
   "source": [
    "https://pubmed.ncbi.nlm.nih.gov/?term=%28chloroquine+or+hydroxychloroquine%29+and+%28covid+or+corona*%29"
   ]
  },
  {
   "cell_type": "code",
   "execution_count": 23,
   "id": "2b036791",
   "metadata": {},
   "outputs": [],
   "source": [
    "studies = search('(chloroquine or hydroxychloroquine) and (covid or corona)')\n",
    "studiesIdList = studies['IdList']"
   ]
  },
  {
   "cell_type": "code",
   "execution_count": 24,
   "id": "c7741606",
   "metadata": {},
   "outputs": [],
   "source": [
    "t = fetch_details(studiesIdList) #nous créons un sous ensemble de 5 articles"
   ]
  },
  {
   "cell_type": "markdown",
   "id": "2c2a8d8b",
   "metadata": {},
   "source": [
    "Sauvegarder les données brutes"
   ]
  },
  {
   "cell_type": "code",
   "execution_count": 25,
   "id": "1b4296e8",
   "metadata": {},
   "outputs": [],
   "source": [
    "pickle.dump(t, open(\"save_req.pickle\",\"wb\"))"
   ]
  },
  {
   "cell_type": "markdown",
   "id": "2174be7e",
   "metadata": {},
   "source": [
    "## 2. Mise en forme des données"
   ]
  },
  {
   "cell_type": "code",
   "execution_count": null,
   "id": "03a5bfc0",
   "metadata": {},
   "outputs": [],
   "source": [
    "data = pickle.load(open(\"save_req.pickle\",\"rb\"))['PubmedArticle']"
   ]
  },
  {
   "cell_type": "code",
   "execution_count": 27,
   "id": "2efdd225",
   "metadata": {
    "scrolled": true
   },
   "outputs": [
    {
     "data": {
      "text/plain": [
       "4151"
      ]
     },
     "execution_count": 27,
     "metadata": {},
     "output_type": "execute_result"
    }
   ],
   "source": [
    "len(data)"
   ]
  },
  {
   "cell_type": "markdown",
   "id": "706178f6",
   "metadata": {},
   "source": [
    "Explorer le format des données"
   ]
  },
  {
   "cell_type": "code",
   "execution_count": 47,
   "id": "2268cf6b",
   "metadata": {},
   "outputs": [
    {
     "data": {
      "text/plain": [
       "dict_keys(['ArticleDate', 'Language', 'ELocationID', 'Journal', 'ArticleTitle', 'Pagination', 'Abstract', 'AuthorList', 'PublicationTypeList'])"
      ]
     },
     "execution_count": 47,
     "metadata": {},
     "output_type": "execute_result"
    }
   ],
   "source": [
    "data[0]['MedlineCitation']['Article'].keys()"
   ]
  },
  {
   "cell_type": "code",
   "execution_count": 59,
   "id": "760ce9e6",
   "metadata": {},
   "outputs": [
    {
     "data": {
      "text/plain": [
       "DictElement({'Year': '2021', 'Month': '02', 'Day': '12'}, attributes={'DateType': 'Electronic'})"
      ]
     },
     "execution_count": 59,
     "metadata": {},
     "output_type": "execute_result"
    }
   ],
   "source": [
    "data[0]['MedlineCitation']['Article']['ArticleDate'][0]"
   ]
  },
  {
   "cell_type": "code",
   "execution_count": 173,
   "id": "aed180d7",
   "metadata": {
    "scrolled": false
   },
   "outputs": [],
   "source": [
    "import json\n",
    "#print(json.dumps(data[0]['MedlineCitation'],indent=2))"
   ]
  },
  {
   "cell_type": "markdown",
   "id": "46e7d809",
   "metadata": {},
   "source": [
    "Construire l'étape de mise en forme"
   ]
  },
  {
   "cell_type": "code",
   "execution_count": 127,
   "id": "377ccc57",
   "metadata": {},
   "outputs": [],
   "source": [
    "def get_authors(article):\n",
    "    auteurs = []\n",
    "    try: # penser à gérer les exceptions\n",
    "        for i in article['MedlineCitation']['Article']['AuthorList']:\n",
    "            try:\n",
    "                auteurs.append(i[\"LastName\"]+\" \"+i[\"ForeName\"]) #i[\"ForeName\"][0]\n",
    "            except:\n",
    "                auteurs.append(None)\n",
    "    except:\n",
    "        auteurs = None\n",
    "    return auteurs"
   ]
  },
  {
   "cell_type": "markdown",
   "id": "26c83c90",
   "metadata": {},
   "source": [
    "Construire le corpus et le mettre sous la forme d'un tableau"
   ]
  },
  {
   "cell_type": "code",
   "execution_count": 128,
   "id": "5a8dcd56",
   "metadata": {},
   "outputs": [],
   "source": [
    "corpus = []\n",
    "for article in t['PubmedArticle']:\n",
    "    try:\n",
    "        year = article['MedlineCitation']['Article'][\"ArticleDate\"][0][\"Year\"]\n",
    "    except:\n",
    "        year = None\n",
    "    journal = article['MedlineCitation']['Article'][\"Journal\"][\"Title\"]\n",
    "    title = article['MedlineCitation']['Article']['ArticleTitle']\n",
    "    auteurs = get_authors(article)\n",
    "    corpus.append([year,journal,title,auteurs])\n",
    "    \n",
    "corpus = pd.DataFrame(corpus,columns=[\"année\",\"journal\",\"titre\",\"auteurs\"])"
   ]
  },
  {
   "cell_type": "code",
   "execution_count": 129,
   "id": "54232277",
   "metadata": {},
   "outputs": [
    {
     "data": {
      "text/html": [
       "<div>\n",
       "<style scoped>\n",
       "    .dataframe tbody tr th:only-of-type {\n",
       "        vertical-align: middle;\n",
       "    }\n",
       "\n",
       "    .dataframe tbody tr th {\n",
       "        vertical-align: top;\n",
       "    }\n",
       "\n",
       "    .dataframe thead th {\n",
       "        text-align: right;\n",
       "    }\n",
       "</style>\n",
       "<table border=\"1\" class=\"dataframe\">\n",
       "  <thead>\n",
       "    <tr style=\"text-align: right;\">\n",
       "      <th></th>\n",
       "      <th>année</th>\n",
       "      <th>journal</th>\n",
       "      <th>titre</th>\n",
       "      <th>auteurs</th>\n",
       "    </tr>\n",
       "  </thead>\n",
       "  <tbody>\n",
       "    <tr>\n",
       "      <th>0</th>\n",
       "      <td>2021</td>\n",
       "      <td>The Cochrane database of systematic reviews</td>\n",
       "      <td>Chloroquine or hydroxychloroquine for preventi...</td>\n",
       "      <td>[Singh Bhagteshwar, Ryan Hannah, Kredo Tamara,...</td>\n",
       "    </tr>\n",
       "    <tr>\n",
       "      <th>1</th>\n",
       "      <td>2020</td>\n",
       "      <td>Clinical and experimental medicine</td>\n",
       "      <td>Emerging treatment strategies for COVID-19 inf...</td>\n",
       "      <td>[Gavriatopoulou Maria, Ntanasis-Stathopoulos I...</td>\n",
       "    </tr>\n",
       "    <tr>\n",
       "      <th>2</th>\n",
       "      <td>2020</td>\n",
       "      <td>Postgraduate medical journal</td>\n",
       "      <td>Hydroxychloroquine and COVID-19.</td>\n",
       "      <td>[Sinha Neeraj, Balayla Galit]</td>\n",
       "    </tr>\n",
       "    <tr>\n",
       "      <th>3</th>\n",
       "      <td>None</td>\n",
       "      <td>European review for medical and pharmacologica...</td>\n",
       "      <td>Efficacy of chloroquine and hydroxychloroquine...</td>\n",
       "      <td>[Meo S A, Klonoff D C, Akram J]</td>\n",
       "    </tr>\n",
       "    <tr>\n",
       "      <th>4</th>\n",
       "      <td>2020</td>\n",
       "      <td>Antiviral research</td>\n",
       "      <td>Of chloroquine and COVID-19.</td>\n",
       "      <td>[Touret Franck, de Lamballerie Xavier]</td>\n",
       "    </tr>\n",
       "  </tbody>\n",
       "</table>\n",
       "</div>"
      ],
      "text/plain": [
       "  année                                            journal  \\\n",
       "0  2021        The Cochrane database of systematic reviews   \n",
       "1  2020                 Clinical and experimental medicine   \n",
       "2  2020                       Postgraduate medical journal   \n",
       "3  None  European review for medical and pharmacologica...   \n",
       "4  2020                                 Antiviral research   \n",
       "\n",
       "                                               titre  \\\n",
       "0  Chloroquine or hydroxychloroquine for preventi...   \n",
       "1  Emerging treatment strategies for COVID-19 inf...   \n",
       "2                   Hydroxychloroquine and COVID-19.   \n",
       "3  Efficacy of chloroquine and hydroxychloroquine...   \n",
       "4                       Of chloroquine and COVID-19.   \n",
       "\n",
       "                                             auteurs  \n",
       "0  [Singh Bhagteshwar, Ryan Hannah, Kredo Tamara,...  \n",
       "1  [Gavriatopoulou Maria, Ntanasis-Stathopoulos I...  \n",
       "2                      [Sinha Neeraj, Balayla Galit]  \n",
       "3                    [Meo S A, Klonoff D C, Akram J]  \n",
       "4             [Touret Franck, de Lamballerie Xavier]  "
      ]
     },
     "execution_count": 129,
     "metadata": {},
     "output_type": "execute_result"
    }
   ],
   "source": [
    "corpus.head()"
   ]
  },
  {
   "cell_type": "markdown",
   "id": "1b0b15d2",
   "metadata": {},
   "source": [
    "### Exploration"
   ]
  },
  {
   "cell_type": "code",
   "execution_count": 73,
   "id": "730d8359",
   "metadata": {},
   "outputs": [
    {
     "data": {
      "text/plain": [
       "<AxesSubplot:>"
      ]
     },
     "execution_count": 73,
     "metadata": {},
     "output_type": "execute_result"
    },
    {
     "data": {
      "image/png": "[encoded data removed]",
      "text/plain": [
       "<Figure size 640x480 with 1 Axes>"
      ]
     },
     "metadata": {},
     "output_type": "display_data"
    }
   ],
   "source": [
    "corpus[\"journal\"].value_counts()[0:20].plot(kind=\"barh\")"
   ]
  },
  {
   "cell_type": "code",
   "execution_count": 130,
   "id": "12450e5b",
   "metadata": {},
   "outputs": [
    {
     "data": {
      "text/plain": [
       "0       [Singh Bhagteshwar, Ryan Hannah, Kredo Tamara,...\n",
       "1       [Gavriatopoulou Maria, Ntanasis-Stathopoulos I...\n",
       "2                           [Sinha Neeraj, Balayla Galit]\n",
       "3                         [Meo S A, Klonoff D C, Akram J]\n",
       "4                  [Touret Franck, de Lamballerie Xavier]\n",
       "                              ...                        \n",
       "4146    [Branković Jovica, Milovanović Vesna M, Simijo...\n",
       "4147    [Solomon Daniel H, Giles Jon T, Liao Katherine...\n",
       "4148    [Leal Carla Monteiro, Leitão Suzana Guimarães,...\n",
       "4149    [Axfors Cathrine, Schmitt Andreas M, Janiaud P...\n",
       "4150    [Trefond Ludovic, Drumez Elodie, Andre Marc, C...\n",
       "Name: auteurs, Length: 4151, dtype: object"
      ]
     },
     "execution_count": 130,
     "metadata": {},
     "output_type": "execute_result"
    }
   ],
   "source": [
    "corpus[\"auteurs\"]"
   ]
  },
  {
   "cell_type": "code",
   "execution_count": 131,
   "id": "abe948f6",
   "metadata": {},
   "outputs": [
    {
     "data": {
      "text/plain": [
       "Raoult Didier             35\n",
       "Gautret Philippe          23\n",
       "Lagier Jean-Christophe    20\n",
       "Colson Philippe           19\n",
       "La Scola Bernard          18\n",
       "dtype: int64"
      ]
     },
     "execution_count": 131,
     "metadata": {},
     "output_type": "execute_result"
    }
   ],
   "source": [
    "auteurs = []\n",
    "for i in list(corpus[\"auteurs\"].dropna()):\n",
    "    for j in i:\n",
    "        if pd.notnull(j):\n",
    "            auteurs.append(j)\n",
    "pd.Series(auteurs).value_counts().head()"
   ]
  },
  {
   "cell_type": "markdown",
   "id": "a3ed302e",
   "metadata": {},
   "source": [
    "Une raison d'aller vers un réseau d'auteurs ?"
   ]
  },
  {
   "cell_type": "markdown",
   "id": "5fd49daf",
   "metadata": {},
   "source": [
    "## 3. Construction du réseau"
   ]
  },
  {
   "cell_type": "code",
   "execution_count": 97,
   "id": "0208f8c0",
   "metadata": {},
   "outputs": [
    {
     "data": {
      "text/plain": [
       "année                                                   2021\n",
       "journal           Revue du rhumatisme (Ed. francaise : 1993)\n",
       "titre                                       [Not Available].\n",
       "auteurs    [Trefond L, Drumez E, Andre M, Costedoat-Chalu...\n",
       "Name: 4150, dtype: object"
      ]
     },
     "execution_count": 97,
     "metadata": {},
     "output_type": "execute_result"
    }
   ],
   "source": [
    "ligne"
   ]
  },
  {
   "cell_type": "code",
   "execution_count": null,
   "id": "31d2df9e",
   "metadata": {},
   "outputs": [],
   "source": []
  },
  {
   "cell_type": "code",
   "execution_count": 132,
   "id": "704d3cb2",
   "metadata": {},
   "outputs": [],
   "source": [
    "import networkx as nx\n",
    "from itertools import combinations # create combinations of a set\n",
    "\n",
    "reseau = nx.Graph()\n",
    "\n",
    "for idx, ligne in corpus.dropna().iterrows():\n",
    "    auteurs = [i for i in ligne[\"auteurs\"] if pd.notnull(i)]\n",
    "    \n",
    "    for a in auteurs:\n",
    "        if not a in reseau.nodes:\n",
    "            reseau.add_node(a, label=a, weight=1)\n",
    "        else:\n",
    "            reseau.nodes[a][\"weight\"] += 1    \n",
    "\n",
    "    for i, j in combinations(auteurs, 2): \n",
    "        if not reseau.has_edge(i, j):\n",
    "            reseau.add_edge(i, j, weight=1)\n",
    "        else:\n",
    "            reseau[i][j][\"weight\"] += 1"
   ]
  },
  {
   "cell_type": "markdown",
   "id": "821d24dc",
   "metadata": {},
   "source": [
    "A quoi ressemble le réseau ?"
   ]
  },
  {
   "cell_type": "markdown",
   "id": "e37d5c19",
   "metadata": {},
   "source": [
    "Combien de composantes"
   ]
  },
  {
   "cell_type": "code",
   "execution_count": 133,
   "id": "9f5501bd",
   "metadata": {},
   "outputs": [
    {
     "data": {
      "text/plain": [
       "(22735, 199887)"
      ]
     },
     "execution_count": 133,
     "metadata": {},
     "output_type": "execute_result"
    }
   ],
   "source": [
    "len(reseau.nodes),len(reseau.edges)"
   ]
  },
  {
   "cell_type": "markdown",
   "id": "7fb1360b",
   "metadata": {},
   "source": [
    "## 4. Caractérisation du réseau"
   ]
  },
  {
   "cell_type": "code",
   "execution_count": 134,
   "id": "958ae25a",
   "metadata": {},
   "outputs": [
    {
     "data": {
      "text/plain": [
       "2056"
      ]
     },
     "execution_count": 134,
     "metadata": {},
     "output_type": "execute_result"
    }
   ],
   "source": [
    "nx.number_connected_components(reseau)"
   ]
  },
  {
   "cell_type": "code",
   "execution_count": 135,
   "id": "b62ff0f3",
   "metadata": {},
   "outputs": [
    {
     "data": {
      "text/plain": [
       "0.0007734704589460433"
      ]
     },
     "execution_count": 135,
     "metadata": {},
     "output_type": "execute_result"
    }
   ],
   "source": [
    "nx.density(reseau)"
   ]
  },
  {
   "cell_type": "markdown",
   "id": "d20185e0",
   "metadata": {},
   "source": [
    "Distribution des degrés"
   ]
  },
  {
   "cell_type": "code",
   "execution_count": 107,
   "id": "3add3585",
   "metadata": {},
   "outputs": [],
   "source": [
    "a= nx.degree(reseau)"
   ]
  },
  {
   "cell_type": "code",
   "execution_count": 110,
   "id": "693d1781",
   "metadata": {},
   "outputs": [],
   "source": [
    "import matplotlib.pyplot as plt"
   ]
  },
  {
   "cell_type": "code",
   "execution_count": 117,
   "id": "c33ffc06",
   "metadata": {},
   "outputs": [
    {
     "data": {
      "text/plain": [
       "<AxesSubplot:>"
      ]
     },
     "execution_count": 117,
     "metadata": {},
     "output_type": "execute_result"
    },
    {
     "data": {
      "image/png": "[encoded data removed]",
      "text/plain": [
       "<Figure size 640x480 with 1 Axes>"
      ]
     },
     "metadata": {},
     "output_type": "display_data"
    }
   ],
   "source": [
    "pd.DataFrame(a)[1].hist(bins=30)"
   ]
  },
  {
   "cell_type": "markdown",
   "id": "2d837241",
   "metadata": {},
   "source": [
    "On veut simplifier le réseau, c'est à dire ne pas garder les auteurs qui ont un degré que de 1 (qui ne sont apparus que dans un article"
   ]
  },
  {
   "cell_type": "code",
   "execution_count": 136,
   "id": "0a99c800",
   "metadata": {},
   "outputs": [
    {
     "data": {
      "text/plain": [
       "2988"
      ]
     },
     "execution_count": 136,
     "metadata": {},
     "output_type": "execute_result"
    }
   ],
   "source": [
    "nodes = [i for i in reseau.nodes if reseau.nodes[i][\"weight\"]>1]\n",
    "len(nodes)"
   ]
  },
  {
   "cell_type": "code",
   "execution_count": 137,
   "id": "20aa7702",
   "metadata": {},
   "outputs": [],
   "source": [
    "reseau_ss = reseau.subgraph(nodes)"
   ]
  },
  {
   "cell_type": "markdown",
   "id": "bdc0f21d",
   "metadata": {},
   "source": [
    "On regarde"
   ]
  },
  {
   "cell_type": "code",
   "execution_count": 138,
   "id": "c71dafe8",
   "metadata": {},
   "outputs": [
    {
     "data": {
      "text/plain": [
       "332"
      ]
     },
     "execution_count": 138,
     "metadata": {},
     "output_type": "execute_result"
    }
   ],
   "source": [
    "nx.number_connected_components(reseau_ss)"
   ]
  },
  {
   "cell_type": "markdown",
   "id": "d8542b68",
   "metadata": {},
   "source": [
    "Ca donne quoi si on explore ?"
   ]
  },
  {
   "cell_type": "code",
   "execution_count": 123,
   "id": "26a32091",
   "metadata": {},
   "outputs": [],
   "source": [
    "from ipysigma import Sigma"
   ]
  },
  {
   "cell_type": "code",
   "execution_count": 139,
   "id": "37c02371",
   "metadata": {},
   "outputs": [
    {
     "data": {
      "application/vnd.jupyter.widget-view+json": {
       "model_id": "2613203a99124e6a802a1c18471a9ca6",
       "version_major": 2,
       "version_minor": 0
      },
      "text/plain": [
       "Sigma(nx.Graph with 2,988 nodes and 25,535 edges)"
      ]
     },
     "metadata": {},
     "output_type": "display_data"
    }
   ],
   "source": [
    "Sigma(reseau_ss,node_size=\"weight\")"
   ]
  },
  {
   "cell_type": "markdown",
   "id": "5a0fea51",
   "metadata": {},
   "source": [
    "On aimerait maintenant isoler les différentes composantes, à commencer par la composante principale"
   ]
  },
  {
   "cell_type": "code",
   "execution_count": 140,
   "id": "d1834929",
   "metadata": {},
   "outputs": [],
   "source": [
    "a = nx.connected_components(reseau_ss)"
   ]
  },
  {
   "cell_type": "code",
   "execution_count": 144,
   "id": "592d736b",
   "metadata": {},
   "outputs": [],
   "source": [
    "a = sorted([i for i in a],key=len)"
   ]
  },
  {
   "cell_type": "code",
   "execution_count": 148,
   "id": "7c8a47fe",
   "metadata": {},
   "outputs": [
    {
     "data": {
      "text/plain": [
       "1476"
      ]
     },
     "execution_count": 148,
     "metadata": {},
     "output_type": "execute_result"
    }
   ],
   "source": [
    "len(a[-1])"
   ]
  },
  {
   "cell_type": "code",
   "execution_count": 149,
   "id": "331f2034",
   "metadata": {},
   "outputs": [],
   "source": [
    "reseau_ss_comp1 = reseau_ss.subgraph(a[-1])"
   ]
  },
  {
   "cell_type": "markdown",
   "id": "6e3358db",
   "metadata": {},
   "source": [
    "Et maintenant on veut faire un clustering"
   ]
  },
  {
   "cell_type": "code",
   "execution_count": 151,
   "id": "883b5bb6",
   "metadata": {},
   "outputs": [],
   "source": [
    "import networkx.algorithms.community as nx_comm\n",
    "l = nx_comm.louvain_communities(reseau_ss_comp1, seed=123)"
   ]
  },
  {
   "cell_type": "markdown",
   "id": "d1f03e09",
   "metadata": {},
   "source": [
    "Et on veut le mettre sur le graph"
   ]
  },
  {
   "cell_type": "code",
   "execution_count": 155,
   "id": "f86ba14c",
   "metadata": {},
   "outputs": [
    {
     "data": {
      "application/vnd.jupyter.widget-view+json": {
       "model_id": "6a7dc72ab4c84c29a48c86d6b54e39bb",
       "version_major": 2,
       "version_minor": 0
      },
      "text/plain": [
       "Sigma(nx.Graph with 1,476 nodes and 18,041 edges)"
      ]
     },
     "metadata": {},
     "output_type": "display_data"
    }
   ],
   "source": [
    "Sigma(reseau_ss_comp1,node_size=\"weight\",node_color=l)"
   ]
  },
  {
   "cell_type": "markdown",
   "id": "1c4a2206",
   "metadata": {},
   "source": [
    "On veut maintenant rajouter une dernière propriété : la centralité"
   ]
  },
  {
   "cell_type": "code",
   "execution_count": 161,
   "id": "df6afa18",
   "metadata": {},
   "outputs": [],
   "source": [
    "bb = nx.betweenness_centrality(reseau_ss_comp1)"
   ]
  },
  {
   "cell_type": "code",
   "execution_count": 162,
   "id": "55496c80",
   "metadata": {},
   "outputs": [],
   "source": [
    "nx.set_node_attributes(reseau_ss_comp1, bb, \"bb\")"
   ]
  },
  {
   "cell_type": "code",
   "execution_count": 163,
   "id": "39bc7812",
   "metadata": {
    "scrolled": true
   },
   "outputs": [
    {
     "data": {
      "application/vnd.jupyter.widget-view+json": {
       "model_id": "eceb7146c6dc4d02ace112f02cd7a406",
       "version_major": 2,
       "version_minor": 0
      },
      "text/plain": [
       "Sigma(nx.Graph with 1,476 nodes and 18,041 edges)"
      ]
     },
     "metadata": {},
     "output_type": "display_data"
    }
   ],
   "source": [
    "Sigma(reseau_ss_comp1,node_size=\"bb\",node_color=l)"
   ]
  },
  {
   "cell_type": "markdown",
   "id": "19a427d8",
   "metadata": {},
   "source": [
    "## 5. Finaliser \n",
    "\n",
    "Gephi est à ce titre le meilleur outil. Exportons et utilisons-le."
   ]
  },
  {
   "cell_type": "code",
   "execution_count": 164,
   "id": "ca0fa966",
   "metadata": {},
   "outputs": [],
   "source": [
    "nx.write_graphml(reseau_ss_comp1,\"reseau.graphml\")"
   ]
  },
  {
   "cell_type": "markdown",
   "id": "ceb99653",
   "metadata": {},
   "source": [
    "## 6. Aller plus loin"
   ]
  },
  {
   "cell_type": "markdown",
   "id": "710a8a1f",
   "metadata": {},
   "source": [
    "- réseau des mots-clés\n",
    "- ajouter des caractéristiques sur les auteurs"
   ]
  }
 ],
 "metadata": {
  "kernelspec": {
   "display_name": "Python 3 (ipykernel)",
   "language": "python",
   "name": "python3"
  },
  "language_info": {
   "codemirror_mode": {
    "name": "ipython",
    "version": 3
   },
   "file_extension": ".py",
   "mimetype": "text/x-python",
   "name": "python",
   "nbconvert_exporter": "python",
   "pygments_lexer": "ipython3",
   "version": "3.9.12"
  }
 },
 "nbformat": 4,
 "nbformat_minor": 5
}
